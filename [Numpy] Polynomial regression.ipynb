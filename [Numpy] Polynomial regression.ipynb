{
 "cells": [
  {
   "cell_type": "markdown",
   "metadata": {},
   "source": [
    "# Polynomial regression with regularization"
   ]
  },
  {
   "cell_type": "markdown",
   "metadata": {},
   "source": [
    "\\begin{align}\n",
    "y = ax + b \\\\\n",
    "J(x) = MSE = \\frac{1}{m}(y-\\dot{y})^2 = \\frac{1}{m}(wx-\\dot{y}) \\\\\n",
    "\\frac{\\partial{J}}{\\partial w} ||x*w-y||^2 \\\\\n",
    "=>  \\frac{\\partial{J}}{\\partial w} (xw-y)^T(xw-y) \\\\\n",
    "=>  \\frac{\\partial{J}}{\\partial w} (w^Tx^Txw - 2w^Tx^Ty+y^Ty) \\\\\n",
    "=>  (2x^Txw - 2x^Ty) \\\\\n",
    "=>  2x^T(xw - y) \\\\\n",
    "=> (xw - y)x \\\\\n",
    "\\end{align}"
   ]
  },
  {
   "cell_type": "code",
   "execution_count": 1,
   "metadata": {},
   "outputs": [],
   "source": [
    "import numpy as np\n",
    "import matplotlib.pyplot as plt"
   ]
  },
  {
   "cell_type": "markdown",
   "metadata": {},
   "source": [
    "## Hyperparameters"
   ]
  },
  {
   "cell_type": "code",
   "execution_count": 2,
   "metadata": {},
   "outputs": [],
   "source": [
    "POLYNOMIAL_DEGREE = 3"
   ]
  },
  {
   "cell_type": "markdown",
   "metadata": {},
   "source": [
    "## Initiate data"
   ]
  },
  {
   "cell_type": "code",
   "execution_count": 3,
   "metadata": {},
   "outputs": [
    {
     "data": {
      "text/plain": [
       "[<matplotlib.lines.Line2D at 0x7fdd23f15050>]"
      ]
     },
     "execution_count": 3,
     "metadata": {},
     "output_type": "execute_result"
    },
    {
     "data": {
      "image/png": "[encoded data removed]",
      "text/plain": [
       "<Figure size 432x288 with 1 Axes>"
      ]
     },
     "metadata": {
      "needs_background": "light"
     },
     "output_type": "display_data"
    }
   ],
   "source": [
    "X = np.linspace(1.0, 10.0, 100)[:, np.newaxis]\n",
    "y = np.sin(X) + 0.1*np.power(X,2) + 0.5*np.random.randn(100,1)\n",
    "X /= np.max(X)\n",
    "\n",
    "plt.plot(X, y, 'bo')"
   ]
  },
  {
   "cell_type": "markdown",
   "metadata": {},
   "source": [
    "## Split data to train and test"
   ]
  },
  {
   "cell_type": "code",
   "execution_count": 4,
   "metadata": {},
   "outputs": [],
   "source": [
    "order = np.random.permutation(len(X))\n",
    "portion = 20\n",
    "test_x = X[order[:portion]]\n",
    "test_y = y[order[:portion]]\n",
    "train_x = X[order[portion:]]\n",
    "train_y = y[order[portion:]]"
   ]
  },
  {
   "cell_type": "markdown",
   "metadata": {},
   "source": [
    "## Fit model using train data"
   ]
  },
  {
   "cell_type": "code",
   "execution_count": 5,
   "metadata": {},
   "outputs": [],
   "source": [
    "class PolynomialRegression():\n",
    "\n",
    "    def __init__(self, regularization = 0.01, learning_rate = 0.5, tolerance = 1e-5, polynomial_degree = 3):\n",
    "        self.regularization = regularization\n",
    "        self.lr = learning_rate\n",
    "        self.tolerance = tolerance\n",
    "        self.polynomial_degree = polynomial_degree + 1\n",
    "        self.w = np.random.randn(polynomial_degree + 1)\n",
    "    \n",
    "    def _get_gradient(self, X, y):\n",
    "        y_predict = X@self.w\n",
    "        error = y.flatten() - y_predict\n",
    "        gradient = -(1.0 / len(X)) * error @ X + self.regularization * self.w\n",
    "        \n",
    "        return gradient, error@error\n",
    "    \n",
    "    def _extend_data(self, data):\n",
    "        extend_data = np.ones_like(data)\n",
    "\n",
    "        for i in range(1, self.polynomial_degree):\n",
    "            extend_data = np.hstack((extend_data, data**i))\n",
    "\n",
    "        return extend_data\n",
    "\n",
    "    def fit(self, X, y, verbose = False):\n",
    "        \n",
    "        if X is None or y is None:\n",
    "            raise Exception(\"X and y must be not None\")\n",
    "        \n",
    "        X = self._extend_data(X)\n",
    "        history = []\n",
    "        \n",
    "        i = 0\n",
    "        while True:\n",
    "            gradient, error = self._get_gradient(X, y)\n",
    "            history.append(error)\n",
    "            \n",
    "            new_w = self.w - self.lr * gradient\n",
    "            \n",
    "            if np.sum(abs(new_w - self.w)) < self.tolerance:\n",
    "                break\n",
    "\n",
    "            if verbose and i % 100 == 0:\n",
    "                print(\"Iteration: %d - Error: %.4f\" %(i, error))\n",
    "\n",
    "            i += 1\n",
    "            self.w = new_w\n",
    "            \n",
    "        return history\n",
    "            \n",
    "    def predict(self, X):\n",
    "        return self._extend_data(X)@self.w"
   ]
  },
  {
   "cell_type": "code",
   "execution_count": 6,
   "metadata": {},
   "outputs": [
    {
     "name": "stdout",
     "output_type": "stream",
     "text": [
      "Iteration: 0 - Error: 552.5870\n",
      "Iteration: 100 - Error: 70.0241\n",
      "Iteration: 200 - Error: 69.0146\n",
      "Iteration: 300 - Error: 68.5699\n",
      "Iteration: 400 - Error: 68.3643\n",
      "Iteration: 500 - Error: 68.2669\n",
      "Iteration: 600 - Error: 68.2201\n",
      "Iteration: 700 - Error: 68.1973\n",
      "Iteration: 800 - Error: 68.1862\n",
      "Iteration: 900 - Error: 68.1807\n",
      "Iteration: 1000 - Error: 68.1779\n"
     ]
    }
   ],
   "source": [
    "model = PolynomialRegression(polynomial_degree=POLYNOMIAL_DEGREE)\n",
    "history = model.fit(train_x, train_y, verbose=True)"
   ]
  },
  {
   "cell_type": "markdown",
   "metadata": {},
   "source": [
    "## Test using train data"
   ]
  },
  {
   "cell_type": "code",
   "execution_count": 7,
   "metadata": {},
   "outputs": [
    {
     "data": {
      "text/plain": [
       "<matplotlib.collections.PathCollection at 0x7fdce92ded90>"
      ]
     },
     "execution_count": 7,
     "metadata": {},
     "output_type": "execute_result"
    },
    {
     "data": {
      "image/png": "[encoded data removed]",
      "text/plain": [
       "<Figure size 432x288 with 1 Axes>"
      ]
     },
     "metadata": {
      "needs_background": "light"
     },
     "output_type": "display_data"
    }
   ],
   "source": [
    "plt.plot(np.sort(train_x.flatten()), np.sort(model.predict(train_x)))\n",
    "plt.scatter(train_x, train_y)"
   ]
  },
  {
   "cell_type": "markdown",
   "metadata": {},
   "source": [
    "## Test using test data"
   ]
  },
  {
   "cell_type": "code",
   "execution_count": 8,
   "metadata": {},
   "outputs": [
    {
     "data": {
      "text/plain": [
       "<matplotlib.collections.PathCollection at 0x7fdce9252050>"
      ]
     },
     "execution_count": 8,
     "metadata": {},
     "output_type": "execute_result"
    },
    {
     "data": {
      "image/png": "[encoded data removed]",
      "text/plain": [
       "<Figure size 432x288 with 1 Axes>"
      ]
     },
     "metadata": {
      "needs_background": "light"
     },
     "output_type": "display_data"
    }
   ],
   "source": [
    "plt.plot(np.sort(test_x.flatten()), np.sort(model.predict(test_x)))\n",
    "plt.scatter(test_x, test_y)"
   ]
  }
 ],
 "metadata": {
  "kernelspec": {
   "display_name": "Python 3",
   "language": "python",
   "name": "python3"
  },
  "language_info": {
   "codemirror_mode": {
    "name": "ipython",
    "version": 3
   },
   "file_extension": ".py",
   "mimetype": "text/x-python",
   "name": "python",
   "nbconvert_exporter": "python",
   "pygments_lexer": "ipython3",
   "version": "3.7.5"
  }
 },
 "nbformat": 4,
 "nbformat_minor": 4
}
