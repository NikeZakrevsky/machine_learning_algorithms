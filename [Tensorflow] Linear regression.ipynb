{
 "cells": [
  {
   "cell_type": "code",
   "execution_count": 10,
   "metadata": {},
   "outputs": [],
   "source": [
    "import numpy as np\n",
    "import tensorflow as tf\n",
    "import matplotlib.pyplot as plt"
   ]
  },
  {
   "cell_type": "code",
   "execution_count": 11,
   "metadata": {},
   "outputs": [],
   "source": [
    "n_samples = 1000\n",
    "batch_size = 100\n",
    "num_steps = 20000"
   ]
  },
  {
   "cell_type": "code",
   "execution_count": 12,
   "metadata": {},
   "outputs": [],
   "source": [
    "X_data = np.random.uniform(0, 1, (n_samples, 1))\n",
    "y_data = 2 * X_data + 1 + np.random.normal(0, 0.2, (n_samples, 1))"
   ]
  },
  {
   "cell_type": "code",
   "execution_count": 13,
   "metadata": {},
   "outputs": [
    {
     "data": {
      "text/plain": [
       "<matplotlib.collections.PathCollection at 0x7fc964b6c2d0>"
      ]
     },
     "execution_count": 13,
     "metadata": {},
     "output_type": "execute_result"
    },
    {
     "data": {
      "image/png": "[encoded data removed]",
      "text/plain": [
       "<Figure size 432x288 with 1 Axes>"
      ]
     },
     "metadata": {
      "needs_background": "light"
     },
     "output_type": "display_data"
    }
   ],
   "source": [
    "plt.scatter(X_data, y_data)"
   ]
  },
  {
   "cell_type": "code",
   "execution_count": 14,
   "metadata": {},
   "outputs": [],
   "source": [
    "X = tf.placeholder(tf.float32, shape=(batch_size, 1))\n",
    "y = tf.placeholder(tf.float32, shape=(batch_size, 1))"
   ]
  },
  {
   "cell_type": "code",
   "execution_count": 15,
   "metadata": {},
   "outputs": [],
   "source": [
    "with tf.variable_scope('linear-regression'):\n",
    "    k = tf.Variable(tf.random_normal((1,1)), name='slope')\n",
    "    b = tf.Variable(tf.zeros((1,)), name='bias')"
   ]
  },
  {
   "cell_type": "code",
   "execution_count": 16,
   "metadata": {},
   "outputs": [],
   "source": [
    "y_pred = tf.matmul(X, k) + b\n",
    "loss = tf.reduce_sum((y - y_pred) ** 2)\n",
    "optimizer = tf.train.GradientDescentOptimizer(learning_rate=0.001).minimize(loss)"
   ]
  },
  {
   "cell_type": "code",
   "execution_count": 18,
   "metadata": {},
   "outputs": [
    {
     "name": "stdout",
     "output_type": "stream",
     "text": [
      "Epoch 100: 5.08267736, k=1.7050, b=1.1760\n",
      "Epoch 200: 3.19425631, k=1.9026, b=1.0614\n",
      "Epoch 300: 3.25853539, k=1.9563, b=1.0395\n",
      "Epoch 400: 4.59629488, k=1.9554, b=1.0260\n",
      "Epoch 500: 4.56358480, k=1.9703, b=1.0297\n",
      "Epoch 600: 3.82943249, k=1.9702, b=1.0292\n",
      "Epoch 700: 4.25207520, k=1.9641, b=1.0143\n",
      "Epoch 800: 3.60954762, k=1.9671, b=1.0306\n",
      "Epoch 900: 4.26906490, k=1.9601, b=1.0337\n",
      "Epoch 1000: 4.15867758, k=1.9563, b=1.0274\n",
      "Epoch 1100: 4.36507225, k=1.9624, b=1.0137\n",
      "Epoch 1200: 4.72749043, k=1.9731, b=1.0222\n",
      "Epoch 1300: 3.66477418, k=1.9723, b=1.0237\n",
      "Epoch 1400: 4.90364456, k=1.9646, b=1.0228\n",
      "Epoch 1500: 3.97205591, k=1.9632, b=1.0215\n",
      "Epoch 1600: 3.41080499, k=1.9760, b=1.0278\n",
      "Epoch 1700: 3.89905715, k=1.9718, b=1.0264\n",
      "Epoch 1800: 4.09188128, k=1.9675, b=1.0252\n",
      "Epoch 1900: 4.51321793, k=1.9734, b=1.0324\n",
      "Epoch 2000: 3.74622703, k=1.9762, b=1.0264\n",
      "Epoch 2100: 3.84029937, k=1.9714, b=1.0218\n",
      "Epoch 2200: 4.55932713, k=1.9717, b=1.0225\n",
      "Epoch 2300: 3.85895562, k=1.9721, b=1.0252\n",
      "Epoch 2400: 3.62942076, k=1.9591, b=1.0295\n",
      "Epoch 2500: 5.22105694, k=1.9586, b=1.0284\n",
      "Epoch 2600: 4.15487337, k=1.9723, b=1.0267\n",
      "Epoch 2700: 4.69657564, k=1.9732, b=1.0280\n",
      "Epoch 2800: 4.55104351, k=1.9600, b=1.0284\n",
      "Epoch 2900: 3.52892852, k=1.9658, b=1.0346\n",
      "Epoch 3000: 3.29012179, k=1.9626, b=1.0255\n",
      "Epoch 3100: 3.35149574, k=1.9751, b=1.0266\n",
      "Epoch 3200: 4.44178486, k=1.9764, b=1.0352\n",
      "Epoch 3300: 4.10700035, k=1.9682, b=1.0229\n",
      "Epoch 3400: 3.69942069, k=1.9608, b=1.0272\n",
      "Epoch 3500: 4.33542871, k=1.9698, b=1.0276\n",
      "Epoch 3600: 4.68985033, k=1.9677, b=1.0226\n",
      "Epoch 3700: 3.61471605, k=1.9552, b=1.0061\n",
      "Epoch 3800: 3.65241480, k=1.9695, b=1.0329\n",
      "Epoch 3900: 4.88956833, k=1.9677, b=1.0304\n",
      "Epoch 4000: 4.49192381, k=1.9510, b=1.0152\n",
      "Epoch 4100: 3.24808955, k=1.9571, b=1.0251\n",
      "Epoch 4200: 4.38136196, k=1.9551, b=1.0467\n",
      "Epoch 4300: 4.78137732, k=1.9749, b=1.0369\n",
      "Epoch 4400: 3.55577874, k=1.9748, b=1.0338\n",
      "Epoch 4500: 4.08636427, k=1.9767, b=1.0237\n",
      "Epoch 4600: 3.60140419, k=1.9604, b=1.0407\n",
      "Epoch 4700: 4.36112881, k=1.9667, b=1.0196\n",
      "Epoch 4800: 3.71646118, k=1.9608, b=1.0312\n",
      "Epoch 4900: 3.38649774, k=1.9745, b=1.0243\n",
      "Epoch 5000: 3.60515666, k=1.9759, b=1.0202\n",
      "Epoch 5100: 4.50260544, k=1.9622, b=1.0193\n",
      "Epoch 5200: 4.56634378, k=1.9598, b=1.0239\n",
      "Epoch 5300: 4.44503450, k=1.9637, b=1.0320\n",
      "Epoch 5400: 3.89582825, k=1.9643, b=1.0245\n",
      "Epoch 5500: 3.15469074, k=1.9683, b=1.0365\n",
      "Epoch 5600: 3.60131431, k=1.9757, b=1.0454\n",
      "Epoch 5700: 4.07078934, k=1.9677, b=1.0332\n",
      "Epoch 5800: 3.95450664, k=1.9647, b=1.0209\n",
      "Epoch 5900: 3.26615095, k=1.9650, b=1.0377\n",
      "Epoch 6000: 4.14476871, k=1.9626, b=1.0231\n",
      "Epoch 6100: 4.01084423, k=1.9651, b=1.0277\n",
      "Epoch 6200: 3.54775357, k=1.9679, b=1.0191\n",
      "Epoch 6300: 4.63343859, k=1.9704, b=1.0318\n",
      "Epoch 6400: 3.25089979, k=1.9666, b=1.0221\n",
      "Epoch 6500: 4.95154667, k=1.9694, b=1.0316\n",
      "Epoch 6600: 5.26597786, k=1.9612, b=1.0305\n",
      "Epoch 6700: 3.08141327, k=1.9563, b=1.0229\n",
      "Epoch 6800: 4.50670624, k=1.9635, b=1.0237\n",
      "Epoch 6900: 3.59626961, k=1.9769, b=1.0290\n",
      "Epoch 7000: 4.36143494, k=1.9601, b=1.0177\n",
      "Epoch 7100: 3.78470516, k=1.9633, b=1.0215\n",
      "Epoch 7200: 3.99328041, k=1.9659, b=1.0255\n",
      "Epoch 7300: 5.10745144, k=1.9734, b=1.0251\n",
      "Epoch 7400: 4.07385111, k=1.9669, b=1.0322\n",
      "Epoch 7500: 3.20241880, k=1.9651, b=1.0216\n",
      "Epoch 7600: 3.99541593, k=1.9582, b=1.0264\n",
      "Epoch 7700: 4.37392426, k=1.9660, b=1.0341\n",
      "Epoch 7800: 5.52074957, k=1.9737, b=1.0309\n",
      "Epoch 7900: 4.29197884, k=1.9769, b=1.0173\n",
      "Epoch 8000: 4.59556198, k=1.9779, b=1.0120\n",
      "Epoch 8100: 4.92368746, k=1.9749, b=1.0148\n",
      "Epoch 8200: 3.74123311, k=1.9789, b=1.0300\n",
      "Epoch 8300: 3.54326963, k=1.9728, b=1.0385\n",
      "Epoch 8400: 3.64699936, k=1.9622, b=1.0268\n",
      "Epoch 8500: 3.64341307, k=1.9690, b=1.0404\n",
      "Epoch 8600: 3.93345284, k=1.9593, b=1.0292\n",
      "Epoch 8700: 4.99099970, k=1.9720, b=1.0315\n",
      "Epoch 8800: 3.72466922, k=1.9741, b=1.0208\n",
      "Epoch 8900: 4.19774485, k=1.9721, b=1.0233\n",
      "Epoch 9000: 4.25712490, k=1.9633, b=1.0299\n",
      "Epoch 9100: 3.32749701, k=1.9673, b=1.0213\n",
      "Epoch 9200: 3.94427443, k=1.9713, b=1.0292\n",
      "Epoch 9300: 4.86757278, k=1.9809, b=1.0367\n",
      "Epoch 9400: 2.93188381, k=1.9592, b=1.0276\n",
      "Epoch 9500: 4.25285292, k=1.9623, b=1.0315\n",
      "Epoch 9600: 4.04618549, k=1.9814, b=1.0295\n",
      "Epoch 9700: 3.85764551, k=1.9663, b=1.0180\n",
      "Epoch 9800: 2.86231685, k=1.9608, b=1.0396\n",
      "Epoch 9900: 4.08738756, k=1.9731, b=1.0201\n",
      "Epoch 10000: 4.46811819, k=1.9632, b=1.0273\n",
      "Epoch 10100: 5.31042624, k=1.9749, b=1.0311\n",
      "Epoch 10200: 4.09812117, k=1.9604, b=1.0280\n",
      "Epoch 10300: 4.47977781, k=1.9564, b=1.0319\n",
      "Epoch 10400: 3.82530713, k=1.9573, b=1.0260\n",
      "Epoch 10500: 4.18039560, k=1.9704, b=1.0301\n",
      "Epoch 10600: 4.14772034, k=1.9683, b=1.0264\n",
      "Epoch 10700: 3.74634695, k=1.9595, b=1.0314\n",
      "Epoch 10800: 3.54368138, k=1.9809, b=1.0138\n",
      "Epoch 10900: 4.96741438, k=1.9766, b=1.0278\n",
      "Epoch 11000: 3.83100176, k=1.9687, b=1.0341\n",
      "Epoch 11100: 4.93090677, k=1.9615, b=1.0200\n",
      "Epoch 11200: 3.57553267, k=1.9846, b=1.0237\n",
      "Epoch 11300: 3.37653732, k=1.9753, b=1.0288\n",
      "Epoch 11400: 3.76429248, k=1.9799, b=1.0347\n",
      "Epoch 11500: 4.29404783, k=1.9777, b=1.0304\n",
      "Epoch 11600: 4.28166056, k=1.9632, b=1.0248\n",
      "Epoch 11700: 4.04216385, k=1.9763, b=1.0260\n",
      "Epoch 11800: 4.20545292, k=1.9757, b=1.0298\n",
      "Epoch 11900: 4.22974730, k=1.9616, b=1.0224\n",
      "Epoch 12000: 3.95567179, k=1.9656, b=1.0214\n",
      "Epoch 12100: 3.95333624, k=1.9716, b=1.0235\n",
      "Epoch 12200: 4.58903122, k=1.9742, b=1.0261\n",
      "Epoch 12300: 3.40800714, k=1.9719, b=1.0293\n",
      "Epoch 12400: 3.49931216, k=1.9676, b=1.0293\n",
      "Epoch 12500: 3.80760622, k=1.9695, b=1.0234\n",
      "Epoch 12600: 4.00111389, k=1.9671, b=1.0296\n",
      "Epoch 12700: 3.84756231, k=1.9699, b=1.0332\n",
      "Epoch 12800: 3.55887890, k=1.9717, b=1.0336\n",
      "Epoch 12900: 3.91654062, k=1.9599, b=1.0288\n",
      "Epoch 13000: 3.66812396, k=1.9709, b=1.0240\n",
      "Epoch 13100: 4.35543776, k=1.9780, b=1.0155\n",
      "Epoch 13200: 4.37332201, k=1.9757, b=1.0222\n",
      "Epoch 13300: 3.22488594, k=1.9681, b=1.0293\n",
      "Epoch 13400: 3.95394397, k=1.9675, b=1.0279\n",
      "Epoch 13500: 2.59614587, k=1.9653, b=1.0187\n",
      "Epoch 13600: 4.83421898, k=1.9735, b=1.0217\n",
      "Epoch 13700: 4.71041012, k=1.9615, b=1.0257\n",
      "Epoch 13800: 3.94100809, k=1.9697, b=1.0250\n",
      "Epoch 13900: 4.80055285, k=1.9688, b=1.0266\n",
      "Epoch 14000: 4.77456760, k=1.9657, b=1.0304\n",
      "Epoch 14100: 3.64064288, k=1.9692, b=1.0181\n",
      "Epoch 14200: 4.02855444, k=1.9762, b=1.0249\n",
      "Epoch 14300: 5.08335638, k=1.9662, b=1.0198\n",
      "Epoch 14400: 4.45262671, k=1.9612, b=1.0241\n",
      "Epoch 14500: 4.63962078, k=1.9593, b=1.0273\n",
      "Epoch 14600: 4.09566021, k=1.9479, b=1.0293\n",
      "Epoch 14700: 4.33448076, k=1.9647, b=1.0390\n",
      "Epoch 14800: 4.50249434, k=1.9616, b=1.0327\n",
      "Epoch 14900: 4.50310087, k=1.9532, b=1.0310\n",
      "Epoch 15000: 3.80985355, k=1.9608, b=1.0193\n",
      "Epoch 15100: 3.76089096, k=1.9714, b=1.0302\n",
      "Epoch 15200: 3.62336826, k=1.9664, b=1.0173\n",
      "Epoch 15300: 4.70461893, k=1.9663, b=1.0167\n",
      "Epoch 15400: 4.38000154, k=1.9631, b=1.0245\n",
      "Epoch 15500: 3.39132643, k=1.9696, b=1.0207\n",
      "Epoch 15600: 4.14341736, k=1.9731, b=1.0233\n",
      "Epoch 15700: 4.53713799, k=1.9662, b=1.0321\n",
      "Epoch 15800: 4.39611959, k=1.9590, b=1.0299\n",
      "Epoch 15900: 3.65511966, k=1.9727, b=1.0321\n",
      "Epoch 16000: 2.96825576, k=1.9654, b=1.0211\n",
      "Epoch 16100: 3.31552935, k=1.9706, b=1.0303\n",
      "Epoch 16200: 5.24094486, k=1.9668, b=1.0321\n",
      "Epoch 16300: 5.14061213, k=1.9676, b=1.0293\n",
      "Epoch 16400: 3.73115540, k=1.9666, b=1.0312\n",
      "Epoch 16500: 4.81815863, k=1.9769, b=1.0303\n",
      "Epoch 16600: 4.95960236, k=1.9570, b=1.0229\n",
      "Epoch 16700: 4.43590021, k=1.9663, b=1.0125\n",
      "Epoch 16800: 4.94807386, k=1.9714, b=1.0248\n",
      "Epoch 16900: 4.28552485, k=1.9750, b=1.0171\n",
      "Epoch 17000: 4.42452860, k=1.9720, b=1.0375\n",
      "Epoch 17100: 4.60828733, k=1.9526, b=1.0324\n",
      "Epoch 17200: 3.75767374, k=1.9601, b=1.0317\n",
      "Epoch 17300: 3.85531044, k=1.9686, b=1.0319\n",
      "Epoch 17400: 3.72441554, k=1.9689, b=1.0350\n",
      "Epoch 17500: 4.43102646, k=1.9494, b=1.0312\n",
      "Epoch 17600: 4.18437624, k=1.9485, b=1.0171\n",
      "Epoch 17700: 4.26618099, k=1.9700, b=1.0211\n",
      "Epoch 17800: 4.91457272, k=1.9613, b=1.0197\n",
      "Epoch 17900: 3.74794292, k=1.9674, b=1.0153\n",
      "Epoch 18000: 3.94005299, k=1.9732, b=1.0167\n",
      "Epoch 18100: 3.98096895, k=1.9711, b=1.0255\n",
      "Epoch 18200: 4.24413204, k=1.9779, b=1.0315\n",
      "Epoch 18300: 3.52310371, k=1.9645, b=1.0297\n",
      "Epoch 18400: 3.67485166, k=1.9651, b=1.0188\n",
      "Epoch 18500: 3.85754752, k=1.9703, b=1.0295\n",
      "Epoch 18600: 3.48499799, k=1.9694, b=1.0319\n",
      "Epoch 18700: 3.63254857, k=1.9743, b=1.0232\n",
      "Epoch 18800: 3.82530737, k=1.9819, b=1.0255\n",
      "Epoch 18900: 3.70511150, k=1.9728, b=1.0185\n",
      "Epoch 19000: 4.39655256, k=1.9538, b=1.0193\n",
      "Epoch 19100: 4.66673183, k=1.9730, b=1.0286\n",
      "Epoch 19200: 3.68967748, k=1.9679, b=1.0232\n"
     ]
    },
    {
     "name": "stdout",
     "output_type": "stream",
     "text": [
      "Epoch 19300: 5.39015579, k=1.9552, b=1.0293\n",
      "Epoch 19400: 4.90512276, k=1.9662, b=1.0274\n",
      "Epoch 19500: 3.99665809, k=1.9625, b=1.0353\n",
      "Epoch 19600: 4.15601540, k=1.9570, b=1.0264\n",
      "Epoch 19700: 4.80795670, k=1.9641, b=1.0279\n",
      "Epoch 19800: 4.07770729, k=1.9680, b=1.0236\n",
      "Epoch 19900: 5.20332479, k=1.9766, b=1.0206\n",
      "Epoch 20000: 4.84395838, k=1.9693, b=1.0255\n"
     ]
    }
   ],
   "source": [
    "display_step = 100\n",
    "init = tf.global_variables_initializer()\n",
    "\n",
    "with tf.Session() as sess:\n",
    "    sess.run(init)\n",
    "    for i in range(num_steps):\n",
    "        indices = np.random.choice(n_samples, batch_size)\n",
    "        X_batch, y_batch = X_data[indices], y_data[indices]\n",
    "\n",
    "        _, loss_val, k_val, b_val = sess.run([optimizer, loss, k, b], feed_dict = {X: X_batch, y: y_batch})\n",
    "        \n",
    "        if (i+1) % display_step == 0:\n",
    "            print('Epoch %d: %.8f, k=%.4f, b=%.4f' % (i+1, loss_val, k_val, b_val))"
   ]
  },
  {
   "cell_type": "code",
   "execution_count": 27,
   "metadata": {},
   "outputs": [],
   "source": [
    "X_test = np.array([0,1])\n",
    "y_test = k_val[0] * X_test + b_val[0]"
   ]
  },
  {
   "cell_type": "code",
   "execution_count": 31,
   "metadata": {},
   "outputs": [
    {
     "data": {
      "text/plain": [
       "[<matplotlib.lines.Line2D at 0x7fc95878ff10>]"
      ]
     },
     "execution_count": 31,
     "metadata": {},
     "output_type": "execute_result"
    },
    {
     "data": {
      "image/png": "[encoded data removed]",
      "text/plain": [
       "<Figure size 432x288 with 1 Axes>"
      ]
     },
     "metadata": {
      "needs_background": "light"
     },
     "output_type": "display_data"
    }
   ],
   "source": [
    "plt.scatter(X_data, y_data)\n",
    "plt.plot(X_test, y_test, c='red')"
   ]
  },
  {
   "cell_type": "code",
   "execution_count": null,
   "metadata": {},
   "outputs": [],
   "source": []
  }
 ],
 "metadata": {
  "kernelspec": {
   "display_name": "Python 3",
   "language": "python",
   "name": "python3"
  },
  "language_info": {
   "codemirror_mode": {
    "name": "ipython",
    "version": 3
   },
   "file_extension": ".py",
   "mimetype": "text/x-python",
   "name": "python",
   "nbconvert_exporter": "python",
   "pygments_lexer": "ipython3",
   "version": "3.7.5"
  }
 },
 "nbformat": 4,
 "nbformat_minor": 4
}
