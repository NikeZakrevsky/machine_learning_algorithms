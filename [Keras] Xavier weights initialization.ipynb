{
 "cells": [
  {
   "cell_type": "code",
   "execution_count": 7,
   "metadata": {},
   "outputs": [],
   "source": [
    "from keras.models import Sequential\n",
    "from keras.layers import Dense\n",
    "\n",
    "from keras.datasets import mnist\n",
    "from keras.utils import np_utils\n",
    "\n",
    "import matplotlib.pyplot as plt"
   ]
  },
  {
   "cell_type": "code",
   "execution_count": 8,
   "metadata": {},
   "outputs": [],
   "source": [
    "(x_train, y_train), (x_test, y_test) = mnist.load_data()"
   ]
  },
  {
   "cell_type": "code",
   "execution_count": 9,
   "metadata": {},
   "outputs": [],
   "source": [
    "y_train = np_utils.to_categorical(y_train, 10)\n",
    "y_test = np_utils.to_categorical(y_test, 10)"
   ]
  },
  {
   "cell_type": "code",
   "execution_count": 10,
   "metadata": {},
   "outputs": [],
   "source": [
    "x_train = x_train.reshape([-1, 28*28]) / 255\n",
    "x_test = x_test.reshape([-1, 28*28]) / 255"
   ]
  },
  {
   "cell_type": "code",
   "execution_count": 11,
   "metadata": {},
   "outputs": [],
   "source": [
    "def create_model(init):\n",
    "    model = Sequential()\n",
    "    model.add(Dense(100, input_shape=(28*28,), kernel_initializer=init, activation='tanh'))\n",
    "    model.add(Dense(100, kernel_initializer=init, activation='tanh'))\n",
    "    model.add(Dense(100, kernel_initializer=init, activation='tanh'))\n",
    "    model.add(Dense(100, kernel_initializer=init, activation='tanh'))\n",
    "    model.add(Dense(10, kernel_initializer=init, activation='softmax'))\n",
    "    return model"
   ]
  },
  {
   "cell_type": "code",
   "execution_count": null,
   "metadata": {},
   "outputs": [
    {
     "name": "stdout",
     "output_type": "stream",
     "text": [
      "Train on 60000 samples, validate on 10000 samples\n",
      "Epoch 1/30\n",
      "60000/60000 [==============================] - 1s 18us/step - loss: 2.3010 - accuracy: 0.1116 - val_loss: 2.2994 - val_accuracy: 0.1135\n",
      "Epoch 2/30\n",
      "60000/60000 [==============================] - 2s 30us/step - loss: 2.2980 - accuracy: 0.1124 - val_loss: 2.2958 - val_accuracy: 0.1135\n",
      "Epoch 3/30\n",
      "60000/60000 [==============================] - 2s 28us/step - loss: 2.2912 - accuracy: 0.1156 - val_loss: 2.2815 - val_accuracy: 0.1546\n",
      "Epoch 4/30\n",
      "60000/60000 [==============================] - 1s 18us/step - loss: 2.1504 - accuracy: 0.2427 - val_loss: 1.8376 - val_accuracy: 0.2992\n",
      "Epoch 5/30\n",
      "60000/60000 [==============================] - 2s 30us/step - loss: 1.4588 - accuracy: 0.4531 - val_loss: 1.0249 - val_accuracy: 0.6259\n",
      "Epoch 6/30\n",
      "60000/60000 [==============================] - 2s 25us/step - loss: 0.8725 - accuracy: 0.6974 - val_loss: 0.7716 - val_accuracy: 0.7419\n",
      "Epoch 7/30\n",
      "60000/60000 [==============================] - 1s 20us/step - loss: 0.7223 - accuracy: 0.7656 - val_loss: 0.6530 - val_accuracy: 0.8012\n",
      "Epoch 8/30\n",
      "60000/60000 [==============================] - 1s 21us/step - loss: 0.6049 - accuracy: 0.8199 - val_loss: 0.5341 - val_accuracy: 0.8477\n",
      "Epoch 9/30\n",
      "60000/60000 [==============================] - 1s 21us/step - loss: 0.4967 - accuracy: 0.8603 - val_loss: 0.4442 - val_accuracy: 0.8761\n",
      "Epoch 10/30\n",
      "60000/60000 [==============================] - 1s 19us/step - loss: 0.4137 - accuracy: 0.8852 - val_loss: 0.3695 - val_accuracy: 0.9013\n",
      "Epoch 11/30\n",
      "60000/60000 [==============================] - 1s 18us/step - loss: 0.3540 - accuracy: 0.9022 - val_loss: 0.3293 - val_accuracy: 0.9090\n",
      "Epoch 12/30\n",
      "60000/60000 [==============================] - 1s 21us/step - loss: 0.3108 - accuracy: 0.9135 - val_loss: 0.2941 - val_accuracy: 0.9178\n",
      "Epoch 13/30\n",
      "60000/60000 [==============================] - 1s 18us/step - loss: 0.2764 - accuracy: 0.9237 - val_loss: 0.2692 - val_accuracy: 0.9243\n",
      "Epoch 14/30\n",
      "60000/60000 [==============================] - 1s 17us/step - loss: 0.2478 - accuracy: 0.9317 - val_loss: 0.2464 - val_accuracy: 0.9312\n",
      "Epoch 15/30\n",
      "60000/60000 [==============================] - 1s 17us/step - loss: 0.2262 - accuracy: 0.9373 - val_loss: 0.2297 - val_accuracy: 0.9357\n",
      "Epoch 16/30\n",
      "60000/60000 [==============================] - 1s 19us/step - loss: 0.2063 - accuracy: 0.9428 - val_loss: 0.2356 - val_accuracy: 0.9308\n",
      "Epoch 17/30\n",
      "45824/60000 [=====================>........] - ETA: 0s - loss: 0.1930 - accuracy: 0.9457"
     ]
    }
   ],
   "source": [
    "uniform_model = create_model(\"uniform\")\n",
    "uniform_model.compile(loss='categorical_crossentropy', optimizer='sgd', metrics=['accuracy'])\n",
    "history = uniform_model.fit(x_train, y_train, batch_size=64, epochs=30, verbose=1, validation_data=(x_test, y_test))"
   ]
  },
  {
   "cell_type": "code",
   "execution_count": null,
   "metadata": {},
   "outputs": [],
   "source": [
    "glorot_model = create_model(\"glorot_normal\")\n",
    "glorot_model.compile(loss='categorical_crossentropy', optimizer='sgd', metrics=['accuracy'])\n",
    "history_2 = glorot_model.fit(x_train, y_train, batch_size=64, epochs=30, verbose=1, validation_data=(x_test, y_test))"
   ]
  },
  {
   "cell_type": "code",
   "execution_count": null,
   "metadata": {},
   "outputs": [],
   "source": [
    "history"
   ]
  },
  {
   "cell_type": "code",
   "execution_count": null,
   "metadata": {},
   "outputs": [],
   "source": [
    "plt.plot(history.history['val_accuracy'])\n",
    "plt.plot(history_2.history['val_accuracy'])\n",
    "plt.title('model accuracy')\n",
    "plt.ylabel('accuracy')\n",
    "plt.xlabel('epoch')\n",
    "plt.legend(['не ксавье', 'ксавье'], loc='lower right')\n",
    "plt.show()"
   ]
  }
 ],
 "metadata": {
  "kernelspec": {
   "display_name": "Python 3",
   "language": "python",
   "name": "python3"
  },
  "language_info": {
   "codemirror_mode": {
    "name": "ipython",
    "version": 3
   },
   "file_extension": ".py",
   "mimetype": "text/x-python",
   "name": "python",
   "nbconvert_exporter": "python",
   "pygments_lexer": "ipython3",
   "version": "3.7.5"
  }
 },
 "nbformat": 4,
 "nbformat_minor": 4
}
