{
 "cells": [
  {
   "cell_type": "code",
   "execution_count": 7,
   "metadata": {},
   "outputs": [],
   "source": [
    "from keras.models import Sequential\n",
    "from keras.layers import Dense\n",
    "\n",
    "from keras.datasets import mnist\n",
    "from keras.utils import np_utils\n",
    "\n",
    "import matplotlib.pyplot as plt"
   ]
  },
  {
   "cell_type": "code",
   "execution_count": 8,
   "metadata": {},
   "outputs": [],
   "source": [
    "(x_train, y_train), (x_test, y_test) = mnist.load_data()"
   ]
  },
  {
   "cell_type": "code",
   "execution_count": 9,
   "metadata": {},
   "outputs": [],
   "source": [
    "y_train = np_utils.to_categorical(y_train, 10)\n",
    "y_test = np_utils.to_categorical(y_test, 10)"
   ]
  },
  {
   "cell_type": "code",
   "execution_count": 10,
   "metadata": {},
   "outputs": [],
   "source": [
    "x_train = x_train.reshape([-1, 28*28]) / 255\n",
    "x_test = x_test.reshape([-1, 28*28]) / 255"
   ]
  },
  {
   "cell_type": "code",
   "execution_count": 11,
   "metadata": {},
   "outputs": [],
   "source": [
    "def create_model(init):\n",
    "    model = Sequential()\n",
    "    model.add(Dense(100, input_shape=(28*28,), kernel_initializer=init, activation='tanh'))\n",
    "    model.add(Dense(100, kernel_initializer=init, activation='tanh'))\n",
    "    model.add(Dense(100, kernel_initializer=init, activation='tanh'))\n",
    "    model.add(Dense(100, kernel_initializer=init, activation='tanh'))\n",
    "    model.add(Dense(10, kernel_initializer=init, activation='softmax'))\n",
    "    return model"
   ]
  },
  {
   "cell_type": "code",
   "execution_count": 12,
   "metadata": {},
   "outputs": [
    {
     "name": "stdout",
     "output_type": "stream",
     "text": [
      "Train on 60000 samples, validate on 10000 samples\n",
      "Epoch 1/30\n",
      "60000/60000 [==============================] - 1s 18us/step - loss: 2.3010 - accuracy: 0.1116 - val_loss: 2.2994 - val_accuracy: 0.1135\n",
      "Epoch 2/30\n",
      "60000/60000 [==============================] - 2s 30us/step - loss: 2.2980 - accuracy: 0.1124 - val_loss: 2.2958 - val_accuracy: 0.1135\n",
      "Epoch 3/30\n",
      "60000/60000 [==============================] - 2s 28us/step - loss: 2.2912 - accuracy: 0.1156 - val_loss: 2.2815 - val_accuracy: 0.1546\n",
      "Epoch 4/30\n",
      "60000/60000 [==============================] - 1s 18us/step - loss: 2.1504 - accuracy: 0.2427 - val_loss: 1.8376 - val_accuracy: 0.2992\n",
      "Epoch 5/30\n",
      "60000/60000 [==============================] - 2s 30us/step - loss: 1.4588 - accuracy: 0.4531 - val_loss: 1.0249 - val_accuracy: 0.6259\n",
      "Epoch 6/30\n",
      "60000/60000 [==============================] - 2s 25us/step - loss: 0.8725 - accuracy: 0.6974 - val_loss: 0.7716 - val_accuracy: 0.7419\n",
      "Epoch 7/30\n",
      "60000/60000 [==============================] - 1s 20us/step - loss: 0.7223 - accuracy: 0.7656 - val_loss: 0.6530 - val_accuracy: 0.8012\n",
      "Epoch 8/30\n",
      "60000/60000 [==============================] - 1s 21us/step - loss: 0.6049 - accuracy: 0.8199 - val_loss: 0.5341 - val_accuracy: 0.8477\n",
      "Epoch 9/30\n",
      "60000/60000 [==============================] - 1s 21us/step - loss: 0.4967 - accuracy: 0.8603 - val_loss: 0.4442 - val_accuracy: 0.8761\n",
      "Epoch 10/30\n",
      "60000/60000 [==============================] - 1s 19us/step - loss: 0.4137 - accuracy: 0.8852 - val_loss: 0.3695 - val_accuracy: 0.9013\n",
      "Epoch 11/30\n",
      "60000/60000 [==============================] - 1s 18us/step - loss: 0.3540 - accuracy: 0.9022 - val_loss: 0.3293 - val_accuracy: 0.9090\n",
      "Epoch 12/30\n",
      "60000/60000 [==============================] - 1s 21us/step - loss: 0.3108 - accuracy: 0.9135 - val_loss: 0.2941 - val_accuracy: 0.9178\n",
      "Epoch 13/30\n",
      "60000/60000 [==============================] - 1s 18us/step - loss: 0.2764 - accuracy: 0.9237 - val_loss: 0.2692 - val_accuracy: 0.9243\n",
      "Epoch 14/30\n",
      "60000/60000 [==============================] - 1s 17us/step - loss: 0.2478 - accuracy: 0.9317 - val_loss: 0.2464 - val_accuracy: 0.9312\n",
      "Epoch 15/30\n",
      "60000/60000 [==============================] - 1s 17us/step - loss: 0.2262 - accuracy: 0.9373 - val_loss: 0.2297 - val_accuracy: 0.9357\n",
      "Epoch 16/30\n",
      "60000/60000 [==============================] - 1s 19us/step - loss: 0.2063 - accuracy: 0.9428 - val_loss: 0.2356 - val_accuracy: 0.9308\n",
      "Epoch 17/30\n",
      "60000/60000 [==============================] - 1s 18us/step - loss: 0.1911 - accuracy: 0.9465 - val_loss: 0.1951 - val_accuracy: 0.9447\n",
      "Epoch 18/30\n",
      "60000/60000 [==============================] - 1s 25us/step - loss: 0.1774 - accuracy: 0.9505 - val_loss: 0.1831 - val_accuracy: 0.9483\n",
      "Epoch 19/30\n",
      "60000/60000 [==============================] - 1s 20us/step - loss: 0.1656 - accuracy: 0.9532 - val_loss: 0.1800 - val_accuracy: 0.9495\n",
      "Epoch 20/30\n",
      "60000/60000 [==============================] - 1s 18us/step - loss: 0.1554 - accuracy: 0.9563 - val_loss: 0.1671 - val_accuracy: 0.9529\n",
      "Epoch 21/30\n",
      "60000/60000 [==============================] - 1s 15us/step - loss: 0.1464 - accuracy: 0.9583 - val_loss: 0.1588 - val_accuracy: 0.9542\n",
      "Epoch 22/30\n",
      "60000/60000 [==============================] - 1s 19us/step - loss: 0.1377 - accuracy: 0.9608 - val_loss: 0.1589 - val_accuracy: 0.9544\n",
      "Epoch 23/30\n",
      "60000/60000 [==============================] - 1s 21us/step - loss: 0.1309 - accuracy: 0.9627 - val_loss: 0.1514 - val_accuracy: 0.9580\n",
      "Epoch 24/30\n",
      "60000/60000 [==============================] - 1s 19us/step - loss: 0.1243 - accuracy: 0.9650 - val_loss: 0.1395 - val_accuracy: 0.9599\n",
      "Epoch 25/30\n",
      "60000/60000 [==============================] - 2s 30us/step - loss: 0.1185 - accuracy: 0.9661 - val_loss: 0.1384 - val_accuracy: 0.9591\n",
      "Epoch 26/30\n",
      "60000/60000 [==============================] - 2s 27us/step - loss: 0.1125 - accuracy: 0.9678 - val_loss: 0.1309 - val_accuracy: 0.9624\n",
      "Epoch 27/30\n",
      "60000/60000 [==============================] - 1s 17us/step - loss: 0.1068 - accuracy: 0.9697 - val_loss: 0.1345 - val_accuracy: 0.9599\n",
      "Epoch 28/30\n",
      "60000/60000 [==============================] - 1s 22us/step - loss: 0.1030 - accuracy: 0.9704 - val_loss: 0.1350 - val_accuracy: 0.9598\n",
      "Epoch 29/30\n",
      "60000/60000 [==============================] - 1s 23us/step - loss: 0.0983 - accuracy: 0.9712 - val_loss: 0.1221 - val_accuracy: 0.9640\n",
      "Epoch 30/30\n",
      "60000/60000 [==============================] - 1s 17us/step - loss: 0.0942 - accuracy: 0.9727 - val_loss: 0.1238 - val_accuracy: 0.9640\n"
     ]
    }
   ],
   "source": [
    "uniform_model = create_model(\"uniform\")\n",
    "uniform_model.compile(loss='categorical_crossentropy', optimizer='sgd', metrics=['accuracy'])\n",
    "history = uniform_model.fit(x_train, y_train, batch_size=64, epochs=30, verbose=1, validation_data=(x_test, y_test))"
   ]
  },
  {
   "cell_type": "code",
   "execution_count": 13,
   "metadata": {},
   "outputs": [
    {
     "name": "stdout",
     "output_type": "stream",
     "text": [
      "Train on 60000 samples, validate on 10000 samples\n",
      "Epoch 1/30\n",
      "60000/60000 [==============================] - 1s 18us/step - loss: 0.7071 - accuracy: 0.8252 - val_loss: 0.3817 - val_accuracy: 0.9004\n",
      "Epoch 2/30\n",
      "60000/60000 [==============================] - 1s 19us/step - loss: 0.3479 - accuracy: 0.9030 - val_loss: 0.3046 - val_accuracy: 0.9152\n",
      "Epoch 3/30\n",
      "60000/60000 [==============================] - 2s 26us/step - loss: 0.2946 - accuracy: 0.9162 - val_loss: 0.2691 - val_accuracy: 0.9258\n",
      "Epoch 4/30\n",
      "60000/60000 [==============================] - 2s 26us/step - loss: 0.2637 - accuracy: 0.9244 - val_loss: 0.2490 - val_accuracy: 0.9319\n",
      "Epoch 5/30\n",
      "60000/60000 [==============================] - 2s 26us/step - loss: 0.2401 - accuracy: 0.9312 - val_loss: 0.2280 - val_accuracy: 0.9358\n",
      "Epoch 6/30\n",
      "60000/60000 [==============================] - 1s 25us/step - loss: 0.2204 - accuracy: 0.9365 - val_loss: 0.2080 - val_accuracy: 0.9412\n",
      "Epoch 7/30\n",
      "60000/60000 [==============================] - 1s 20us/step - loss: 0.2029 - accuracy: 0.9417 - val_loss: 0.1943 - val_accuracy: 0.9447\n",
      "Epoch 8/30\n",
      "60000/60000 [==============================] - 1s 18us/step - loss: 0.1873 - accuracy: 0.9462 - val_loss: 0.1825 - val_accuracy: 0.9467\n",
      "Epoch 9/30\n",
      "60000/60000 [==============================] - 1s 19us/step - loss: 0.1736 - accuracy: 0.9499 - val_loss: 0.1715 - val_accuracy: 0.9502\n",
      "Epoch 10/30\n",
      "60000/60000 [==============================] - 2s 29us/step - loss: 0.1613 - accuracy: 0.9539 - val_loss: 0.1617 - val_accuracy: 0.9524\n",
      "Epoch 11/30\n",
      "60000/60000 [==============================] - 2s 29us/step - loss: 0.1507 - accuracy: 0.9565 - val_loss: 0.1555 - val_accuracy: 0.9564\n",
      "Epoch 12/30\n",
      "60000/60000 [==============================] - 2s 26us/step - loss: 0.1412 - accuracy: 0.9598 - val_loss: 0.1465 - val_accuracy: 0.9579\n",
      "Epoch 13/30\n",
      "60000/60000 [==============================] - 2s 26us/step - loss: 0.1330 - accuracy: 0.9613 - val_loss: 0.1392 - val_accuracy: 0.9602\n",
      "Epoch 14/30\n",
      "60000/60000 [==============================] - 1s 18us/step - loss: 0.1252 - accuracy: 0.9637 - val_loss: 0.1366 - val_accuracy: 0.9595\n",
      "Epoch 15/30\n",
      "60000/60000 [==============================] - 1s 19us/step - loss: 0.1181 - accuracy: 0.9656 - val_loss: 0.1292 - val_accuracy: 0.9616\n",
      "Epoch 16/30\n",
      "60000/60000 [==============================] - 1s 18us/step - loss: 0.1121 - accuracy: 0.9680 - val_loss: 0.1240 - val_accuracy: 0.9634\n",
      "Epoch 17/30\n",
      "60000/60000 [==============================] - 2s 28us/step - loss: 0.1060 - accuracy: 0.9695 - val_loss: 0.1212 - val_accuracy: 0.9640\n",
      "Epoch 18/30\n",
      "60000/60000 [==============================] - 2s 27us/step - loss: 0.1007 - accuracy: 0.9712 - val_loss: 0.1229 - val_accuracy: 0.9641\n",
      "Epoch 19/30\n",
      "60000/60000 [==============================] - 2s 26us/step - loss: 0.0957 - accuracy: 0.9728 - val_loss: 0.1124 - val_accuracy: 0.9651\n",
      "Epoch 20/30\n",
      "60000/60000 [==============================] - 1s 19us/step - loss: 0.0914 - accuracy: 0.9737 - val_loss: 0.1125 - val_accuracy: 0.9664\n",
      "Epoch 21/30\n",
      "60000/60000 [==============================] - 1s 21us/step - loss: 0.0872 - accuracy: 0.9747 - val_loss: 0.1111 - val_accuracy: 0.9674\n",
      "Epoch 22/30\n",
      "60000/60000 [==============================] - 1s 21us/step - loss: 0.0832 - accuracy: 0.9760 - val_loss: 0.1068 - val_accuracy: 0.9670\n",
      "Epoch 23/30\n",
      "60000/60000 [==============================] - 2s 26us/step - loss: 0.0795 - accuracy: 0.9772 - val_loss: 0.1053 - val_accuracy: 0.9680\n",
      "Epoch 24/30\n",
      "60000/60000 [==============================] - 1s 24us/step - loss: 0.0759 - accuracy: 0.9779 - val_loss: 0.1036 - val_accuracy: 0.9672\n",
      "Epoch 25/30\n",
      "60000/60000 [==============================] - 2s 30us/step - loss: 0.0730 - accuracy: 0.9789 - val_loss: 0.1011 - val_accuracy: 0.9685\n",
      "Epoch 26/30\n",
      "60000/60000 [==============================] - 2s 25us/step - loss: 0.0694 - accuracy: 0.9798 - val_loss: 0.0979 - val_accuracy: 0.9700\n",
      "Epoch 27/30\n",
      "60000/60000 [==============================] - 1s 19us/step - loss: 0.0666 - accuracy: 0.9810 - val_loss: 0.0959 - val_accuracy: 0.9705\n",
      "Epoch 28/30\n",
      "60000/60000 [==============================] - 1s 17us/step - loss: 0.0640 - accuracy: 0.9811 - val_loss: 0.0950 - val_accuracy: 0.9706\n",
      "Epoch 29/30\n",
      "60000/60000 [==============================] - 1s 20us/step - loss: 0.0613 - accuracy: 0.9824 - val_loss: 0.0974 - val_accuracy: 0.9698\n",
      "Epoch 30/30\n",
      "60000/60000 [==============================] - 1s 25us/step - loss: 0.0586 - accuracy: 0.9836 - val_loss: 0.0959 - val_accuracy: 0.9702\n"
     ]
    }
   ],
   "source": [
    "glorot_model = create_model(\"glorot_normal\")\n",
    "glorot_model.compile(loss='categorical_crossentropy', optimizer='sgd', metrics=['accuracy'])\n",
    "history_2 = glorot_model.fit(x_train, y_train, batch_size=64, epochs=30, verbose=1, validation_data=(x_test, y_test))"
   ]
  },
  {
   "cell_type": "code",
   "execution_count": 14,
   "metadata": {},
   "outputs": [
    {
     "data": {
      "text/plain": [
       "<keras.callbacks.callbacks.History at 0x7f247844d190>"
      ]
     },
     "execution_count": 14,
     "metadata": {},
     "output_type": "execute_result"
    }
   ],
   "source": [
    "history"
   ]
  },
  {
   "cell_type": "code",
   "execution_count": 15,
   "metadata": {},
   "outputs": [
    {
     "data": {
      "image/png": "[encoded data removed]",
      "text/plain": [
       "<Figure size 432x288 with 1 Axes>"
      ]
     },
     "metadata": {
      "needs_background": "light"
     },
     "output_type": "display_data"
    }
   ],
   "source": [
    "plt.plot(history.history['val_accuracy'])\n",
    "plt.plot(history_2.history['val_accuracy'])\n",
    "plt.title('model accuracy')\n",
    "plt.ylabel('accuracy')\n",
    "plt.xlabel('epoch')\n",
    "plt.legend(['не ксавье', 'ксавье'], loc='lower right')\n",
    "plt.show()"
   ]
  }
 ],
 "metadata": {
  "kernelspec": {
   "display_name": "Python 3",
   "language": "python",
   "name": "python3"
  },
  "language_info": {
   "codemirror_mode": {
    "name": "ipython",
    "version": 3
   },
   "file_extension": ".py",
   "mimetype": "text/x-python",
   "name": "python",
   "nbconvert_exporter": "python",
   "pygments_lexer": "ipython3",
   "version": "3.7.5"
  }
 },
 "nbformat": 4,
 "nbformat_minor": 4
}
