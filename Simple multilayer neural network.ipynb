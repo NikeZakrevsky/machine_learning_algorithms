{
 "cells": [
  {
   "cell_type": "markdown",
   "metadata": {},
   "source": [
    "# Simple multilayer neural network"
   ]
  },
  {
   "cell_type": "code",
   "execution_count": 1,
   "metadata": {},
   "outputs": [],
   "source": [
    "%matplotlib inline\n",
    "import numpy as np\n",
    "import matplotlib.pyplot as plt\n",
    "from sklearn import datasets"
   ]
  },
  {
   "cell_type": "code",
   "execution_count": 2,
   "metadata": {},
   "outputs": [],
   "source": [
    "def to_one_hot(Y):\n",
    "    n_col = np.amax(Y) + 1\n",
    "    binarized = np.zeros((len(Y), n_col))\n",
    "    for i in range(len(Y)):\n",
    "        binarized[i, Y[i]] = 1.\n",
    "    return binarized"
   ]
  },
  {
   "cell_type": "code",
   "execution_count": 3,
   "metadata": {},
   "outputs": [],
   "source": [
    "def normalize(X, axis=-1, order=2):\n",
    "    l2 = np.atleast_1d(np.linalg.norm(X, order, axis))\n",
    "    l2[l2 == 0] = 1\n",
    "    return X / np.expand_dims(l2, axis)"
   ]
  },
  {
   "cell_type": "code",
   "execution_count": 4,
   "metadata": {},
   "outputs": [],
   "source": [
    "iris = datasets.load_iris()\n",
    "X = normalize(iris.data)\n",
    "y = to_one_hot(iris.target)"
   ]
  },
  {
   "cell_type": "code",
   "execution_count": 5,
   "metadata": {},
   "outputs": [],
   "source": [
    "order = np.random.permutation(len(X))\n",
    "portion = 20\n",
    "test_x = X[order[:portion]]\n",
    "test_y = y[order[:portion], :]\n",
    "train_x = X[order[portion:]]\n",
    "train_y = y[order[portion:], :]"
   ]
  },
  {
   "cell_type": "code",
   "execution_count": 8,
   "metadata": {},
   "outputs": [],
   "source": [
    "class Classifier:\n",
    "    \n",
    "    def __init__(self, layers_sizes, lr, verbose):\n",
    "        self.l_sizes = layers_sizes\n",
    "        self.lr = lr\n",
    "        self.verbose = verbose\n",
    "\n",
    "    def __sigmoid(self, z):\n",
    "        return 1 / (1 + np.exp(-z))\n",
    "    \n",
    "    def sigmoid_derivative(self, x):\n",
    "        return self.__sigmoid(x) * (1 - self.__sigmoid(x))\n",
    "\n",
    "    def fit(self, X, y):\n",
    "        self.w_1 = 2*np.random.random((X.shape[1], self.l_sizes[0]))        \n",
    "        self.w_2 = 2*np.random.random((self.l_sizes[0], self.l_sizes[1]))\n",
    "        \n",
    "        errors = []\n",
    "        \n",
    "        for i in range(10000):\n",
    "            layer1 =  self.__sigmoid(X @ self.w_1)\n",
    "            layer2 =  self.__sigmoid(layer1 @ self.w_2)\n",
    "\n",
    "            layer2_error = y - layer2\n",
    "            layer2_delta = layer2_error * self.sigmoid_derivative(layer2)\n",
    "\n",
    "            layer1_error = layer2_delta @ self.w_2.T\n",
    "            layer1_delta = layer1_error * self.sigmoid_derivative(layer1)\n",
    "            \n",
    "            self.w_2 += layer1.T.dot(layer2_delta) * self.lr\n",
    "            self.w_1 += X.T.dot(layer1_delta) * self.lr\n",
    "            \n",
    "            error = np.mean(np.abs(layer2_error))\n",
    "            errors.append(error)\n",
    "            accuracy = (1 - error) * 100\n",
    "        \n",
    "            if(self.verbose == True and i % 1000 == 0):\n",
    "                print(\"Iteration: %d - Accuracy: %.4f\" %(i, accuracy))\n",
    "                \n",
    "    def predict(self, X):\n",
    "        layer1 =  self.__sigmoid(X @ self.w_1)\n",
    "        return self.__sigmoid(layer1 @ self.w_2)"
   ]
  },
  {
   "cell_type": "code",
   "execution_count": 9,
   "metadata": {},
   "outputs": [
    {
     "name": "stdout",
     "output_type": "stream",
     "text": [
      "Iteration: 0 - Accuracy: 33.7203\n",
      "Iteration: 1000 - Accuracy: 93.6033\n",
      "Iteration: 2000 - Accuracy: 95.6988\n",
      "Iteration: 3000 - Accuracy: 96.3381\n",
      "Iteration: 4000 - Accuracy: 97.1540\n",
      "Iteration: 5000 - Accuracy: 97.4209\n",
      "Iteration: 6000 - Accuracy: 97.5865\n",
      "Iteration: 7000 - Accuracy: 97.6959\n",
      "Iteration: 8000 - Accuracy: 97.7746\n",
      "Iteration: 9000 - Accuracy: 97.8358\n"
     ]
    }
   ],
   "source": [
    "model = Classifier((5,3), 0.1, verbose = True)\n",
    "model.fit(train_x, train_y)"
   ]
  },
  {
   "cell_type": "code",
   "execution_count": 11,
   "metadata": {},
   "outputs": [
    {
     "name": "stdout",
     "output_type": "stream",
     "text": [
      "Validation Accuracy 96.1%\n"
     ]
    }
   ],
   "source": [
    "layer2_error = test_y - model.predict(test_x)\n",
    "\n",
    "error = np.mean(np.abs(layer2_error))\n",
    "accuracy = (1 - error) * 100\n",
    "\n",
    "print(\"Validation Accuracy \" + str(round(accuracy,2)) + \"%\")"
   ]
  },
  {
   "cell_type": "code",
   "execution_count": null,
   "metadata": {},
   "outputs": [],
   "source": []
  }
 ],
 "metadata": {
  "kernelspec": {
   "display_name": "Python 3",
   "language": "python",
   "name": "python3"
  },
  "language_info": {
   "codemirror_mode": {
    "name": "ipython",
    "version": 3
   },
   "file_extension": ".py",
   "mimetype": "text/x-python",
   "name": "python",
   "nbconvert_exporter": "python",
   "pygments_lexer": "ipython3",
   "version": "3.7.5"
  }
 },
 "nbformat": 4,
 "nbformat_minor": 4
}
