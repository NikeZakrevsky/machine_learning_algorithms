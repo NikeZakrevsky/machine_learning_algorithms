{
 "cells": [
  {
   "cell_type": "markdown",
   "metadata": {},
   "source": [
    "# Polynomial regression"
   ]
  },
  {
   "cell_type": "code",
   "execution_count": 1,
   "metadata": {},
   "outputs": [],
   "source": [
    "import numpy as np\n",
    "import matplotlib.pyplot as plt"
   ]
  },
  {
   "cell_type": "markdown",
   "metadata": {},
   "source": [
    "## Hyperparameters"
   ]
  },
  {
   "cell_type": "code",
   "execution_count": 2,
   "metadata": {},
   "outputs": [],
   "source": [
    "POLYNOMIAL_DEGREE = 3"
   ]
  },
  {
   "cell_type": "markdown",
   "metadata": {},
   "source": [
    "## Initiate data"
   ]
  },
  {
   "cell_type": "code",
   "execution_count": 3,
   "metadata": {},
   "outputs": [
    {
     "data": {
      "text/plain": [
       "[<matplotlib.lines.Line2D at 0x7fc80a705950>]"
      ]
     },
     "execution_count": 3,
     "metadata": {},
     "output_type": "execute_result"
    },
    {
     "data": {
      "image/png": "[encoded data removed]",
      "text/plain": [
       "<Figure size 432x288 with 1 Axes>"
      ]
     },
     "metadata": {
      "needs_background": "light"
     },
     "output_type": "display_data"
    }
   ],
   "source": [
    "X = np.linspace(1.0, 10.0, 100)[:, np.newaxis]\n",
    "y = np.sin(X) + 0.1*np.power(X,2) + 0.5*np.random.randn(100,1)\n",
    "X /= np.max(X)\n",
    "\n",
    "plt.plot(X, y, 'bo')"
   ]
  },
  {
   "cell_type": "markdown",
   "metadata": {},
   "source": [
    "## Split data to train and test"
   ]
  },
  {
   "cell_type": "code",
   "execution_count": 4,
   "metadata": {},
   "outputs": [],
   "source": [
    "order = np.random.permutation(len(X))\n",
    "portion = 20\n",
    "test_x = X[order[:portion]]\n",
    "test_y = y[order[:portion]]\n",
    "train_x = X[order[portion:]]\n",
    "train_y = y[order[portion:]]"
   ]
  },
  {
   "cell_type": "markdown",
   "metadata": {},
   "source": [
    "## Fit model using train data"
   ]
  },
  {
   "cell_type": "code",
   "execution_count": 5,
   "metadata": {},
   "outputs": [],
   "source": [
    "class PolynomialRegression():\n",
    "\n",
    "    \n",
    "    def __init__(self, regularization = 0.01, learning_rate = 0.5, tolerance = 1e-5, polynomial_degree = 3):\n",
    "        self.regularization = regularization\n",
    "        self.lr = learning_rate\n",
    "        self.tolerance = tolerance\n",
    "        self.polynomial_degree = polynomial_degree + 1\n",
    "        self.w = np.random.randn(polynomial_degree + 1)\n",
    "    \n",
    "    def _get_gradient(self, w, x, y):\n",
    "        y_estimate = x@w\n",
    "        error = y.flatten() - y_estimate\n",
    "        gradient = -(1.0 / len(x)) * error @ x + self.regularization * w\n",
    "        return gradient, error@error\n",
    "    \n",
    "    def _extend_data(self, train_x):\n",
    "        x_data = np.ones_like(train_x)\n",
    "\n",
    "        for i in range(1, self.polynomial_degree):\n",
    "            x_data = np.hstack((x_data, train_x**i))\n",
    "\n",
    "        return x_data\n",
    "\n",
    "    def fit(self, X, y, degree = 1, verbose = False):\n",
    "        iterations = 1\n",
    "\n",
    "        while True:\n",
    "            x_data = self._extend_data(train_x)\n",
    "            y_data = train_y\n",
    "\n",
    "            gradient, error = self._get_gradient(self.w, x_data, train_y)\n",
    "            new_w = self.w - self.lr * gradient\n",
    "\n",
    "            if np.sum(abs(new_w - self.w)) < self.tolerance:\n",
    "                break\n",
    "\n",
    "            if verbose and iterations % 10 == 0:\n",
    "                print(\"Iteration: %d - Error: %.4f\" %(iterations, error))\n",
    "\n",
    "            iterations += 1\n",
    "            self.w = new_w\n",
    "        \n",
    "        return self\n",
    "            \n",
    "    def predict(self, X):\n",
    "        return self._extend_data(X)@self.w"
   ]
  },
  {
   "cell_type": "code",
   "execution_count": 6,
   "metadata": {},
   "outputs": [
    {
     "name": "stdout",
     "output_type": "stream",
     "text": [
      "Iteration: 10 - Error: 163.6813\n",
      "Iteration: 20 - Error: 83.4147\n",
      "Iteration: 30 - Error: 63.3894\n",
      "Iteration: 40 - Error: 57.6326\n",
      "Iteration: 50 - Error: 55.6160\n",
      "Iteration: 60 - Error: 54.7318\n",
      "Iteration: 70 - Error: 54.2511\n",
      "Iteration: 80 - Error: 53.9371\n",
      "Iteration: 90 - Error: 53.7012\n",
      "Iteration: 100 - Error: 53.5068\n",
      "Iteration: 110 - Error: 53.3372\n",
      "Iteration: 120 - Error: 53.1847\n",
      "Iteration: 130 - Error: 53.0452\n",
      "Iteration: 140 - Error: 52.9165\n",
      "Iteration: 150 - Error: 52.7974\n",
      "Iteration: 160 - Error: 52.6867\n",
      "Iteration: 170 - Error: 52.5837\n",
      "Iteration: 180 - Error: 52.4879\n",
      "Iteration: 190 - Error: 52.3986\n",
      "Iteration: 200 - Error: 52.3154\n",
      "Iteration: 210 - Error: 52.2379\n",
      "Iteration: 220 - Error: 52.1655\n",
      "Iteration: 230 - Error: 52.0980\n",
      "Iteration: 240 - Error: 52.0351\n",
      "Iteration: 250 - Error: 51.9763\n",
      "Iteration: 260 - Error: 51.9214\n",
      "Iteration: 270 - Error: 51.8702\n",
      "Iteration: 280 - Error: 51.8223\n",
      "Iteration: 290 - Error: 51.7776\n",
      "Iteration: 300 - Error: 51.7357\n",
      "Iteration: 310 - Error: 51.6967\n",
      "Iteration: 320 - Error: 51.6601\n",
      "Iteration: 330 - Error: 51.6260\n",
      "Iteration: 340 - Error: 51.5940\n",
      "Iteration: 350 - Error: 51.5641\n",
      "Iteration: 360 - Error: 51.5361\n",
      "Iteration: 370 - Error: 51.5099\n",
      "Iteration: 380 - Error: 51.4854\n",
      "Iteration: 390 - Error: 51.4625\n",
      "Iteration: 400 - Error: 51.4410\n",
      "Iteration: 410 - Error: 51.4209\n",
      "Iteration: 420 - Error: 51.4020\n",
      "Iteration: 430 - Error: 51.3844\n",
      "Iteration: 440 - Error: 51.3678\n",
      "Iteration: 450 - Error: 51.3523\n",
      "Iteration: 460 - Error: 51.3378\n",
      "Iteration: 470 - Error: 51.3242\n",
      "Iteration: 480 - Error: 51.3114\n",
      "Iteration: 490 - Error: 51.2994\n",
      "Iteration: 500 - Error: 51.2882\n",
      "Iteration: 510 - Error: 51.2777\n",
      "Iteration: 520 - Error: 51.2678\n",
      "Iteration: 530 - Error: 51.2586\n",
      "Iteration: 540 - Error: 51.2499\n",
      "Iteration: 550 - Error: 51.2417\n",
      "Iteration: 560 - Error: 51.2341\n",
      "Iteration: 570 - Error: 51.2269\n",
      "Iteration: 580 - Error: 51.2202\n",
      "Iteration: 590 - Error: 51.2138\n",
      "Iteration: 600 - Error: 51.2079\n",
      "Iteration: 610 - Error: 51.2023\n",
      "Iteration: 620 - Error: 51.1971\n",
      "Iteration: 630 - Error: 51.1921\n",
      "Iteration: 640 - Error: 51.1875\n",
      "Iteration: 650 - Error: 51.1832\n",
      "Iteration: 660 - Error: 51.1791\n",
      "Iteration: 670 - Error: 51.1753\n",
      "Iteration: 680 - Error: 51.1716\n",
      "Iteration: 690 - Error: 51.1683\n",
      "Iteration: 700 - Error: 51.1651\n",
      "Iteration: 710 - Error: 51.1621\n",
      "Iteration: 720 - Error: 51.1593\n",
      "Iteration: 730 - Error: 51.1566\n",
      "Iteration: 740 - Error: 51.1541\n",
      "Iteration: 750 - Error: 51.1518\n",
      "Iteration: 760 - Error: 51.1496\n",
      "Iteration: 770 - Error: 51.1475\n",
      "Iteration: 780 - Error: 51.1455\n",
      "Iteration: 790 - Error: 51.1437\n",
      "Iteration: 800 - Error: 51.1420\n",
      "Iteration: 810 - Error: 51.1403\n",
      "Iteration: 820 - Error: 51.1388\n",
      "Iteration: 830 - Error: 51.1374\n",
      "Iteration: 840 - Error: 51.1360\n",
      "Iteration: 850 - Error: 51.1347\n",
      "Iteration: 860 - Error: 51.1335\n",
      "Iteration: 870 - Error: 51.1324\n",
      "Iteration: 880 - Error: 51.1313\n",
      "Iteration: 890 - Error: 51.1303\n",
      "Iteration: 900 - Error: 51.1294\n",
      "Iteration: 910 - Error: 51.1285\n",
      "Iteration: 920 - Error: 51.1276\n",
      "Iteration: 930 - Error: 51.1268\n",
      "Iteration: 940 - Error: 51.1261\n",
      "Iteration: 950 - Error: 51.1254\n",
      "Iteration: 960 - Error: 51.1247\n",
      "Iteration: 970 - Error: 51.1241\n",
      "Iteration: 980 - Error: 51.1235\n",
      "Iteration: 990 - Error: 51.1229\n",
      "Iteration: 1000 - Error: 51.1224\n",
      "Iteration: 1010 - Error: 51.1219\n",
      "Iteration: 1020 - Error: 51.1214\n",
      "Iteration: 1030 - Error: 51.1210\n",
      "Iteration: 1040 - Error: 51.1206\n",
      "Iteration: 1050 - Error: 51.1202\n",
      "Iteration: 1060 - Error: 51.1198\n",
      "Iteration: 1070 - Error: 51.1195\n",
      "Iteration: 1080 - Error: 51.1191\n",
      "Iteration: 1090 - Error: 51.1188\n",
      "Iteration: 1100 - Error: 51.1185\n",
      "Iteration: 1110 - Error: 51.1182\n",
      "Iteration: 1120 - Error: 51.1180\n",
      "Iteration: 1130 - Error: 51.1177\n",
      "Iteration: 1140 - Error: 51.1175\n",
      "Iteration: 1150 - Error: 51.1173\n",
      "Iteration: 1160 - Error: 51.1171\n",
      "Iteration: 1170 - Error: 51.1169\n",
      "Iteration: 1180 - Error: 51.1167\n",
      "Iteration: 1190 - Error: 51.1165\n",
      "Iteration: 1200 - Error: 51.1163\n",
      "Iteration: 1210 - Error: 51.1162\n",
      "Iteration: 1220 - Error: 51.1160\n",
      "Iteration: 1230 - Error: 51.1159\n",
      "Iteration: 1240 - Error: 51.1157\n",
      "Iteration: 1250 - Error: 51.1156\n",
      "Iteration: 1260 - Error: 51.1155\n",
      "Iteration: 1270 - Error: 51.1154\n",
      "Iteration: 1280 - Error: 51.1153\n",
      "Iteration: 1290 - Error: 51.1152\n",
      "Iteration: 1300 - Error: 51.1151\n",
      "Iteration: 1310 - Error: 51.1150\n",
      "Iteration: 1320 - Error: 51.1149\n",
      "Iteration: 1330 - Error: 51.1148\n",
      "Iteration: 1340 - Error: 51.1147\n",
      "Iteration: 1350 - Error: 51.1147\n",
      "Iteration: 1360 - Error: 51.1146\n",
      "Iteration: 1370 - Error: 51.1145\n",
      "Iteration: 1380 - Error: 51.1145\n",
      "Iteration: 1390 - Error: 51.1144\n",
      "Iteration: 1400 - Error: 51.1144\n",
      "Iteration: 1410 - Error: 51.1143\n",
      "Iteration: 1420 - Error: 51.1143\n",
      "Iteration: 1430 - Error: 51.1142\n",
      "Iteration: 1440 - Error: 51.1142\n",
      "Iteration: 1450 - Error: 51.1141\n",
      "Iteration: 1460 - Error: 51.1141\n",
      "Iteration: 1470 - Error: 51.1140\n",
      "Iteration: 1480 - Error: 51.1140\n",
      "Iteration: 1490 - Error: 51.1140\n"
     ]
    },
    {
     "data": {
      "text/plain": [
       "<__main__.PolynomialRegression at 0x7fc7cfa723d0>"
      ]
     },
     "execution_count": 6,
     "metadata": {},
     "output_type": "execute_result"
    }
   ],
   "source": [
    "model = PolynomialRegression()\n",
    "model.fit(train_x, train_y, degree=POLYNOMIAL_DEGREE, verbose=True)"
   ]
  },
  {
   "cell_type": "markdown",
   "metadata": {},
   "source": [
    "## Test using test data"
   ]
  },
  {
   "cell_type": "code",
   "execution_count": 7,
   "metadata": {},
   "outputs": [
    {
     "data": {
      "text/plain": [
       "<matplotlib.collections.PathCollection at 0x7fc80a693f50>"
      ]
     },
     "execution_count": 7,
     "metadata": {},
     "output_type": "execute_result"
    },
    {
     "data": {
      "image/png": "[encoded data removed]",
      "text/plain": [
       "<Figure size 432x288 with 1 Axes>"
      ]
     },
     "metadata": {
      "needs_background": "light"
     },
     "output_type": "display_data"
    }
   ],
   "source": [
    "plt.plot(np.sort(test_x.flatten()), np.sort(model.predict(test_x)))\n",
    "plt.scatter(test_x, test_y)"
   ]
  },
  {
   "cell_type": "code",
   "execution_count": null,
   "metadata": {},
   "outputs": [],
   "source": []
  }
 ],
 "metadata": {
  "kernelspec": {
   "display_name": "Python 3",
   "language": "python",
   "name": "python3"
  },
  "language_info": {
   "codemirror_mode": {
    "name": "ipython",
    "version": 3
   },
   "file_extension": ".py",
   "mimetype": "text/x-python",
   "name": "python",
   "nbconvert_exporter": "python",
   "pygments_lexer": "ipython3",
   "version": "3.7.5"
  }
 },
 "nbformat": 4,
 "nbformat_minor": 4
}
