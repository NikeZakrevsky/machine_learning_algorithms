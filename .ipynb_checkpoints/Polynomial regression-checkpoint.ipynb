{
 "cells": [
  {
   "cell_type": "markdown",
   "metadata": {},
   "source": [
    "# Polynomial regression"
   ]
  },
  {
   "cell_type": "code",
   "execution_count": 1,
   "metadata": {},
   "outputs": [],
   "source": [
    "import numpy as np\n",
    "import matplotlib.pyplot as plt"
   ]
  },
  {
   "cell_type": "markdown",
   "metadata": {},
   "source": [
    "## Hyperparameters"
   ]
  },
  {
   "cell_type": "code",
   "execution_count": 2,
   "metadata": {},
   "outputs": [],
   "source": [
    "POLYNOMIAL_DEGREE = 3\n",
    "TOLERANCE = 1e-5\n",
    "LEARNING_RATE = 0.5\n",
    "REGULARIZATION = 0.01"
   ]
  },
  {
   "cell_type": "markdown",
   "metadata": {},
   "source": [
    "## Initiate data"
   ]
  },
  {
   "cell_type": "code",
   "execution_count": 3,
   "metadata": {},
   "outputs": [
    {
     "data": {
      "text/plain": [
       "[<matplotlib.lines.Line2D at 0x7f7f40a45d10>]"
      ]
     },
     "execution_count": 3,
     "metadata": {},
     "output_type": "execute_result"
    },
    {
     "data": {
      "image/png": "[encoded data removed]",
      "text/plain": [
       "<Figure size 432x288 with 1 Axes>"
      ]
     },
     "metadata": {
      "needs_background": "light"
     },
     "output_type": "display_data"
    }
   ],
   "source": [
    "X = np.linspace(1.0, 10.0, 100)[:, np.newaxis]\n",
    "y = np.sin(X) + 0.1*np.power(X,2) + 0.5*np.random.randn(100,1)\n",
    "X /= np.max(X)\n",
    "\n",
    "plt.plot(X, y, 'bo')"
   ]
  },
  {
   "cell_type": "markdown",
   "metadata": {},
   "source": [
    "## Split data to train and test"
   ]
  },
  {
   "cell_type": "code",
   "execution_count": 4,
   "metadata": {},
   "outputs": [],
   "source": [
    "order = np.random.permutation(len(X))\n",
    "portion = 20\n",
    "test_x = X[order[:portion]]\n",
    "test_y = y[order[:portion]]\n",
    "train_x = X[order[portion:]]\n",
    "train_y = y[order[portion:]]"
   ]
  },
  {
   "cell_type": "markdown",
   "metadata": {},
   "source": [
    "## Train using train data"
   ]
  },
  {
   "cell_type": "code",
   "execution_count": 5,
   "metadata": {},
   "outputs": [],
   "source": [
    "def get_gradient(w, x, y):\n",
    "    y_estimate = x@w\n",
    "    error = y.flatten() - y_estimate\n",
    "    gradient = -(1.0 / len(x)) * error @ x + REGULARIZATION * w\n",
    "    return gradient, error@error\n",
    "\n",
    "def extend_data():\n",
    "    x_data = np.ones_like(train_x)\n",
    "    \n",
    "    for i in range(1, POLYNOMIAL_DEGREE + 1):\n",
    "        x_data = np.hstack((x_data, train_x**i))\n",
    "        \n",
    "    return x_data"
   ]
  },
  {
   "cell_type": "code",
   "execution_count": 6,
   "metadata": {},
   "outputs": [
    {
     "ename": "TypeError",
     "evalue": "extend_data() takes 0 positional arguments but 1 was given",
     "output_type": "error",
     "traceback": [
      "\u001b[0;31m---------------------------------------------------------------------------\u001b[0m",
      "\u001b[0;31mTypeError\u001b[0m                                 Traceback (most recent call last)",
      "\u001b[0;32m<ipython-input-6-571783dcbc0f>\u001b[0m in \u001b[0;36m<module>\u001b[0;34m\u001b[0m\n\u001b[1;32m      4\u001b[0m \u001b[0;32mwhile\u001b[0m \u001b[0;32mTrue\u001b[0m\u001b[0;34m:\u001b[0m\u001b[0;34m\u001b[0m\u001b[0;34m\u001b[0m\u001b[0m\n\u001b[1;32m      5\u001b[0m \u001b[0;34m\u001b[0m\u001b[0m\n\u001b[0;32m----> 6\u001b[0;31m     \u001b[0mx_data\u001b[0m \u001b[0;34m=\u001b[0m \u001b[0mextend_data\u001b[0m\u001b[0;34m(\u001b[0m\u001b[0mtrain_x\u001b[0m\u001b[0;34m)\u001b[0m\u001b[0;34m\u001b[0m\u001b[0;34m\u001b[0m\u001b[0m\n\u001b[0m\u001b[1;32m      7\u001b[0m     \u001b[0my_data\u001b[0m \u001b[0;34m=\u001b[0m \u001b[0mtrain_y\u001b[0m\u001b[0;34m\u001b[0m\u001b[0;34m\u001b[0m\u001b[0m\n\u001b[1;32m      8\u001b[0m \u001b[0;34m\u001b[0m\u001b[0m\n",
      "\u001b[0;31mTypeError\u001b[0m: extend_data() takes 0 positional arguments but 1 was given"
     ]
    }
   ],
   "source": [
    "w = np.random.randn(POLYNOMIAL_DEGREE + 1)\n",
    "iterations = 1\n",
    "    \n",
    "while True:\n",
    "    \n",
    "    x_data = extend_data(train_x)\n",
    "    y_data = train_y\n",
    "    \n",
    "    gradient, error = get_gradient(w, x_data, train_y)\n",
    "    new_w = w - LEARNING_RATE * gradient\n",
    "    \n",
    "    if np.sum(abs(new_w - w)) < TOLERANCE:\n",
    "        break\n",
    "    \n",
    "    if iterations % 10 == 0:\n",
    "        print(\"Iteration: %d - Error: %.4f\" %(iterations, error))\n",
    "    \n",
    "    iterations += 1\n",
    "    w = new_w"
   ]
  },
  {
   "cell_type": "markdown",
   "metadata": {},
   "source": [
    "## Test using test data"
   ]
  },
  {
   "cell_type": "code",
   "execution_count": null,
   "metadata": {},
   "outputs": [],
   "source": [
    "result = []\n",
    "\n",
    "X_plot = np.linspace(0, 1.0, 100)\n",
    "y_plot = 0\n",
    "for i in range(POLYNOMIAL_DEGREE+1):\n",
    "    y_plot += X_plot**i*w[i]\n",
    "        \n",
    "plt.plot(X_plot, y_plot)\n",
    "plt.plot(test_x, test_y, 'bo')"
   ]
  },
  {
   "cell_type": "code",
   "execution_count": null,
   "metadata": {},
   "outputs": [],
   "source": []
  }
 ],
 "metadata": {
  "kernelspec": {
   "display_name": "Python 3",
   "language": "python",
   "name": "python3"
  },
  "language_info": {
   "codemirror_mode": {
    "name": "ipython",
    "version": 3
   },
   "file_extension": ".py",
   "mimetype": "text/x-python",
   "name": "python",
   "nbconvert_exporter": "python",
   "pygments_lexer": "ipython3",
   "version": "3.7.5"
  }
 },
 "nbformat": 4,
 "nbformat_minor": 4
}
