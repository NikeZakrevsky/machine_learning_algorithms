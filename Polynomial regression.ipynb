{
 "cells": [
  {
   "cell_type": "markdown",
   "metadata": {},
   "source": [
    "# Polynomial regression"
   ]
  },
  {
   "cell_type": "code",
   "execution_count": 1,
   "metadata": {},
   "outputs": [],
   "source": [
    "import numpy as np\n",
    "import matplotlib.pyplot as plt"
   ]
  },
  {
   "cell_type": "markdown",
   "metadata": {},
   "source": [
    "## Hyperparameters"
   ]
  },
  {
   "cell_type": "code",
   "execution_count": 2,
   "metadata": {},
   "outputs": [],
   "source": [
    "POLYNOMIAL_DEGREE = 3\n",
    "TOLERANCE = 1e-5\n",
    "LEARNING_RATE = 0.5\n",
    "REGULARIZATION = 0.01"
   ]
  },
  {
   "cell_type": "markdown",
   "metadata": {},
   "source": [
    "## Initiate data"
   ]
  },
  {
   "cell_type": "code",
   "execution_count": 3,
   "metadata": {},
   "outputs": [
    {
     "data": {
      "text/plain": [
       "[<matplotlib.lines.Line2D at 0x7fa6fa93c510>]"
      ]
     },
     "execution_count": 3,
     "metadata": {},
     "output_type": "execute_result"
    },
    {
     "data": {
      "image/png": "[encoded data removed]",
      "text/plain": [
       "<Figure size 432x288 with 1 Axes>"
      ]
     },
     "metadata": {
      "needs_background": "light"
     },
     "output_type": "display_data"
    }
   ],
   "source": [
    "X = np.linspace(1.0, 10.0, 100)[:, np.newaxis]\n",
    "y = np.sin(X) + 0.1*np.power(X,2) + 0.5*np.random.randn(100,1)\n",
    "X /= np.max(X)\n",
    "\n",
    "plt.plot(X, y, 'bo')"
   ]
  },
  {
   "cell_type": "markdown",
   "metadata": {},
   "source": [
    "## Split data to train and test"
   ]
  },
  {
   "cell_type": "code",
   "execution_count": 4,
   "metadata": {},
   "outputs": [],
   "source": [
    "order = np.random.permutation(len(X))\n",
    "portion = 20\n",
    "test_x = X[order[:portion]]\n",
    "test_y = y[order[:portion]]\n",
    "train_x = X[order[portion:]]\n",
    "train_y = y[order[portion:]]"
   ]
  },
  {
   "cell_type": "markdown",
   "metadata": {},
   "source": [
    "## Train using train data"
   ]
  },
  {
   "cell_type": "code",
   "execution_count": 7,
   "metadata": {},
   "outputs": [
    {
     "name": "stdout",
     "output_type": "stream",
     "text": [
      "Iteration: 10 - Error: 118.4130\n",
      "Iteration: 20 - Error: 80.1277\n",
      "Iteration: 30 - Error: 70.6726\n",
      "Iteration: 40 - Error: 67.9219\n",
      "Iteration: 50 - Error: 66.9622\n",
      "Iteration: 60 - Error: 66.5672\n",
      "Iteration: 70 - Error: 66.3789\n",
      "Iteration: 80 - Error: 66.2747\n",
      "Iteration: 90 - Error: 66.2074\n",
      "Iteration: 100 - Error: 66.1574\n",
      "Iteration: 110 - Error: 66.1163\n",
      "Iteration: 120 - Error: 66.0803\n",
      "Iteration: 130 - Error: 66.0477\n",
      "Iteration: 140 - Error: 66.0176\n",
      "Iteration: 150 - Error: 65.9896\n",
      "Iteration: 160 - Error: 65.9635\n",
      "Iteration: 170 - Error: 65.9390\n",
      "Iteration: 180 - Error: 65.9161\n",
      "Iteration: 190 - Error: 65.8946\n",
      "Iteration: 200 - Error: 65.8744\n",
      "Iteration: 210 - Error: 65.8555\n",
      "Iteration: 220 - Error: 65.8377\n",
      "Iteration: 230 - Error: 65.8210\n",
      "Iteration: 240 - Error: 65.8053\n",
      "Iteration: 250 - Error: 65.7906\n",
      "Iteration: 260 - Error: 65.7768\n",
      "Iteration: 270 - Error: 65.7638\n",
      "Iteration: 280 - Error: 65.7516\n",
      "Iteration: 290 - Error: 65.7401\n",
      "Iteration: 300 - Error: 65.7293\n",
      "Iteration: 310 - Error: 65.7191\n",
      "Iteration: 320 - Error: 65.7096\n",
      "Iteration: 330 - Error: 65.7006\n",
      "Iteration: 340 - Error: 65.6922\n",
      "Iteration: 350 - Error: 65.6842\n",
      "Iteration: 360 - Error: 65.6768\n",
      "Iteration: 370 - Error: 65.6697\n",
      "Iteration: 380 - Error: 65.6631\n",
      "Iteration: 390 - Error: 65.6569\n",
      "Iteration: 400 - Error: 65.6510\n",
      "Iteration: 410 - Error: 65.6455\n",
      "Iteration: 420 - Error: 65.6403\n",
      "Iteration: 430 - Error: 65.6354\n",
      "Iteration: 440 - Error: 65.6308\n",
      "Iteration: 450 - Error: 65.6265\n",
      "Iteration: 460 - Error: 65.6224\n",
      "Iteration: 470 - Error: 65.6185\n",
      "Iteration: 480 - Error: 65.6149\n",
      "Iteration: 490 - Error: 65.6114\n",
      "Iteration: 500 - Error: 65.6082\n",
      "Iteration: 510 - Error: 65.6052\n",
      "Iteration: 520 - Error: 65.6023\n",
      "Iteration: 530 - Error: 65.5996\n",
      "Iteration: 540 - Error: 65.5970\n",
      "Iteration: 550 - Error: 65.5946\n",
      "Iteration: 560 - Error: 65.5923\n",
      "Iteration: 570 - Error: 65.5902\n",
      "Iteration: 580 - Error: 65.5882\n",
      "Iteration: 590 - Error: 65.5863\n",
      "Iteration: 600 - Error: 65.5845\n",
      "Iteration: 610 - Error: 65.5828\n",
      "Iteration: 620 - Error: 65.5812\n",
      "Iteration: 630 - Error: 65.5796\n",
      "Iteration: 640 - Error: 65.5782\n",
      "Iteration: 650 - Error: 65.5769\n",
      "Iteration: 660 - Error: 65.5756\n",
      "Iteration: 670 - Error: 65.5744\n",
      "Iteration: 680 - Error: 65.5732\n",
      "Iteration: 690 - Error: 65.5722\n",
      "Iteration: 700 - Error: 65.5711\n",
      "Iteration: 710 - Error: 65.5702\n",
      "Iteration: 720 - Error: 65.5693\n",
      "Iteration: 730 - Error: 65.5684\n",
      "Iteration: 740 - Error: 65.5676\n",
      "Iteration: 750 - Error: 65.5668\n",
      "Iteration: 760 - Error: 65.5661\n",
      "Iteration: 770 - Error: 65.5654\n",
      "Iteration: 780 - Error: 65.5648\n",
      "Iteration: 790 - Error: 65.5642\n",
      "Iteration: 800 - Error: 65.5636\n",
      "Iteration: 810 - Error: 65.5630\n",
      "Iteration: 820 - Error: 65.5625\n",
      "Iteration: 830 - Error: 65.5620\n",
      "Iteration: 840 - Error: 65.5616\n",
      "Iteration: 850 - Error: 65.5611\n",
      "Iteration: 860 - Error: 65.5607\n",
      "Iteration: 870 - Error: 65.5603\n",
      "Iteration: 880 - Error: 65.5600\n",
      "Iteration: 890 - Error: 65.5596\n",
      "Iteration: 900 - Error: 65.5593\n",
      "Iteration: 910 - Error: 65.5590\n",
      "Iteration: 920 - Error: 65.5587\n",
      "Iteration: 930 - Error: 65.5584\n",
      "Iteration: 940 - Error: 65.5581\n",
      "Iteration: 950 - Error: 65.5579\n",
      "Iteration: 960 - Error: 65.5576\n",
      "Iteration: 970 - Error: 65.5574\n",
      "Iteration: 980 - Error: 65.5572\n",
      "Iteration: 990 - Error: 65.5570\n",
      "Iteration: 1000 - Error: 65.5568\n",
      "Iteration: 1010 - Error: 65.5566\n",
      "Iteration: 1020 - Error: 65.5564\n",
      "Iteration: 1030 - Error: 65.5563\n",
      "Iteration: 1040 - Error: 65.5561\n",
      "Iteration: 1050 - Error: 65.5560\n",
      "Iteration: 1060 - Error: 65.5558\n",
      "Iteration: 1070 - Error: 65.5557\n",
      "Iteration: 1080 - Error: 65.5556\n",
      "Iteration: 1090 - Error: 65.5554\n",
      "Iteration: 1100 - Error: 65.5553\n",
      "Iteration: 1110 - Error: 65.5552\n",
      "Iteration: 1120 - Error: 65.5551\n",
      "Iteration: 1130 - Error: 65.5550\n",
      "Iteration: 1140 - Error: 65.5549\n",
      "Iteration: 1150 - Error: 65.5549\n",
      "Iteration: 1160 - Error: 65.5548\n",
      "Iteration: 1170 - Error: 65.5547\n",
      "Iteration: 1180 - Error: 65.5546\n",
      "Iteration: 1190 - Error: 65.5545\n",
      "Iteration: 1200 - Error: 65.5545\n",
      "Iteration: 1210 - Error: 65.5544\n",
      "Iteration: 1220 - Error: 65.5544\n",
      "Iteration: 1230 - Error: 65.5543\n",
      "Iteration: 1240 - Error: 65.5543\n",
      "Iteration: 1250 - Error: 65.5542\n",
      "Iteration: 1260 - Error: 65.5542\n",
      "Iteration: 1270 - Error: 65.5541\n",
      "Iteration: 1280 - Error: 65.5541\n",
      "Iteration: 1290 - Error: 65.5540\n"
     ]
    }
   ],
   "source": [
    "def get_gradient(w, x, y):\n",
    "    y_estimate = x@w\n",
    "    error = y.flatten() - y_estimate\n",
    "    gradient = -(1.0 / len(x)) * error @ x + REGULARIZATION * w\n",
    "    return gradient, error@error\n",
    "\n",
    "w = np.random.randn(POLYNOMIAL_DEGREE + 1)\n",
    "\n",
    "iterations = 1\n",
    "    \n",
    "while True:\n",
    "    \n",
    "    x_data = np.ones_like(train_x)\n",
    "    y_data = train_y\n",
    "\n",
    "    for i in range(1, POLYNOMIAL_DEGREE + 1):\n",
    "        x_data = np.hstack((x_data, train_x**i))\n",
    "    \n",
    "    gradient, error = get_gradient(w, x_data, train_y)\n",
    "    new_w = w - LEARNING_RATE * gradient\n",
    "    \n",
    "    if np.sum(abs(new_w - w)) < TOLERANCE:\n",
    "        break\n",
    "    \n",
    "    if iterations % 10 == 0:\n",
    "        print(\"Iteration: %d - Error: %.4f\" %(iterations, error))\n",
    "    \n",
    "    iterations += 1\n",
    "    w = new_w"
   ]
  },
  {
   "cell_type": "markdown",
   "metadata": {},
   "source": [
    "## Test using test data"
   ]
  },
  {
   "cell_type": "code",
   "execution_count": 9,
   "metadata": {},
   "outputs": [
    {
     "data": {
      "text/plain": [
       "[<matplotlib.lines.Line2D at 0x7fa6bfb79910>]"
      ]
     },
     "execution_count": 9,
     "metadata": {},
     "output_type": "execute_result"
    },
    {
     "data": {
      "image/png": "[encoded data removed]",
      "text/plain": [
       "<Figure size 432x288 with 1 Axes>"
      ]
     },
     "metadata": {
      "needs_background": "light"
     },
     "output_type": "display_data"
    }
   ],
   "source": [
    "result = []\n",
    "\n",
    "X_plot = np.linspace(0, 1.0, 100)\n",
    "y_plot = 0\n",
    "for i in range(POLYNOMIAL_DEGREE+1):\n",
    "    y_plot += X_plot**i*w[i]\n",
    "        \n",
    "plt.plot(X_plot, y_plot)\n",
    "plt.plot(test_x, test_y, 'bo')"
   ]
  },
  {
   "cell_type": "code",
   "execution_count": null,
   "metadata": {},
   "outputs": [],
   "source": []
  }
 ],
 "metadata": {
  "kernelspec": {
   "display_name": "Python 3",
   "language": "python",
   "name": "python3"
  },
  "language_info": {
   "codemirror_mode": {
    "name": "ipython",
    "version": 3
   },
   "file_extension": ".py",
   "mimetype": "text/x-python",
   "name": "python",
   "nbconvert_exporter": "python",
   "pygments_lexer": "ipython3",
   "version": "3.7.5"
  }
 },
 "nbformat": 4,
 "nbformat_minor": 4
}
