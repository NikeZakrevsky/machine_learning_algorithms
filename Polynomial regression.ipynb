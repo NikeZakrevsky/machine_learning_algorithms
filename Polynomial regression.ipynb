{
 "cells": [
  {
   "cell_type": "markdown",
   "metadata": {},
   "source": [
    "# Polynomial regression"
   ]
  },
  {
   "cell_type": "code",
   "execution_count": 1,
   "metadata": {},
   "outputs": [],
   "source": [
    "import numpy as np\n",
    "import matplotlib.pyplot as plt"
   ]
  },
  {
   "cell_type": "markdown",
   "metadata": {},
   "source": [
    "## Hyperparameters"
   ]
  },
  {
   "cell_type": "code",
   "execution_count": 2,
   "metadata": {},
   "outputs": [],
   "source": [
    "POLYNOMIAL_DEGREE = 3\n",
    "TOLERANCE = 1e-5\n",
    "LEARNING_RATE = 0.5\n",
    "REGULARIZATION = 0.01"
   ]
  },
  {
   "cell_type": "markdown",
   "metadata": {},
   "source": [
    "## Initiate data"
   ]
  },
  {
   "cell_type": "code",
   "execution_count": 3,
   "metadata": {},
   "outputs": [
    {
     "data": {
      "text/plain": [
       "[<matplotlib.lines.Line2D at 0x7f652eabbad0>]"
      ]
     },
     "execution_count": 3,
     "metadata": {},
     "output_type": "execute_result"
    },
    {
     "data": {
      "image/png": "[encoded data removed]",
      "text/plain": [
       "<Figure size 432x288 with 1 Axes>"
      ]
     },
     "metadata": {
      "needs_background": "light"
     },
     "output_type": "display_data"
    }
   ],
   "source": [
    "X = np.linspace(1.0, 10.0, 100)[:, np.newaxis]\n",
    "y = np.sin(X) + 0.1*np.power(X,2) + 0.5*np.random.randn(100,1)\n",
    "X /= np.max(X)\n",
    "\n",
    "plt.plot(X, y, 'bo')"
   ]
  },
  {
   "cell_type": "markdown",
   "metadata": {},
   "source": [
    "## Split data to train and test"
   ]
  },
  {
   "cell_type": "code",
   "execution_count": 4,
   "metadata": {},
   "outputs": [],
   "source": [
    "order = np.random.permutation(len(X))\n",
    "portion = 20\n",
    "test_x = X[order[:portion]]\n",
    "test_y = y[order[:portion]]\n",
    "train_x = X[order[portion:]]\n",
    "train_y = y[order[portion:]]"
   ]
  },
  {
   "cell_type": "code",
   "execution_count": 5,
   "metadata": {},
   "outputs": [],
   "source": [
    "class PolynomialRegression():\n",
    "    \n",
    "    def __init__(self):\n",
    "        self.w = np.random.randn(POLYNOMIAL_DEGREE + 1)\n",
    "    \n",
    "    def _get_gradient(self, w, x, y):\n",
    "        y_estimate = x@w\n",
    "        error = y.flatten() - y_estimate\n",
    "        gradient = -(1.0 / len(x)) * error @ x + REGULARIZATION * w\n",
    "        return gradient, error@error\n",
    "    \n",
    "    def _extend_data(self, train_x):\n",
    "        x_data = np.ones_like(train_x)\n",
    "\n",
    "        for i in range(1, POLYNOMIAL_DEGREE + 1):\n",
    "            x_data = np.hstack((x_data, train_x**i))\n",
    "\n",
    "        return x_data\n",
    "\n",
    "    def fit(self, X, y, degree = 1, verbose = False):\n",
    "        iterations = 1\n",
    "\n",
    "        while True:\n",
    "            x_data = self._extend_data(train_x)\n",
    "            y_data = train_y\n",
    "\n",
    "            gradient, error = self._get_gradient(self.w, x_data, train_y)\n",
    "            new_w = self.w - LEARNING_RATE * gradient\n",
    "\n",
    "            if np.sum(abs(new_w - self.w)) < TOLERANCE:\n",
    "                break\n",
    "\n",
    "            if verbose and iterations % 10 == 0:\n",
    "                print(\"Iteration: %d - Error: %.4f\" %(iterations, error))\n",
    "\n",
    "            iterations += 1\n",
    "            self.w = new_w\n",
    "        \n",
    "        return self\n",
    "            \n",
    "    def predict(self, X):\n",
    "        print(self._extend_data(X).shape, self.w.shape)\n",
    "        return self._extend_data(X)@self.w\n",
    "        #X_plot = np.linspace(np.min(X), np.max(X), len(X))\n",
    "        #y_plot = 0\n",
    "        #for i in range(POLYNOMIAL_DEGREE+1):\n",
    "        #    y_plot += X_plot**i*self.w[i]"
   ]
  },
  {
   "cell_type": "code",
   "execution_count": 6,
   "metadata": {},
   "outputs": [
    {
     "name": "stdout",
     "output_type": "stream",
     "text": [
      "Iteration: 10 - Error: 125.7195\n",
      "Iteration: 20 - Error: 71.7236\n",
      "Iteration: 30 - Error: 60.0418\n",
      "Iteration: 40 - Error: 56.9601\n",
      "Iteration: 50 - Error: 55.9108\n",
      "Iteration: 60 - Error: 55.4469\n",
      "Iteration: 70 - Error: 55.1876\n",
      "Iteration: 80 - Error: 55.0121\n",
      "Iteration: 90 - Error: 54.8761\n",
      "Iteration: 100 - Error: 54.7617\n",
      "Iteration: 110 - Error: 54.6613\n",
      "Iteration: 120 - Error: 54.5712\n",
      "Iteration: 130 - Error: 54.4896\n",
      "Iteration: 140 - Error: 54.4151\n",
      "Iteration: 150 - Error: 54.3471\n",
      "Iteration: 160 - Error: 54.2848\n",
      "Iteration: 170 - Error: 54.2277\n",
      "Iteration: 180 - Error: 54.1754\n",
      "Iteration: 190 - Error: 54.1274\n",
      "Iteration: 200 - Error: 54.0833\n",
      "Iteration: 210 - Error: 54.0428\n",
      "Iteration: 220 - Error: 54.0056\n",
      "Iteration: 230 - Error: 53.9714\n",
      "Iteration: 240 - Error: 53.9400\n",
      "Iteration: 250 - Error: 53.9111\n",
      "Iteration: 260 - Error: 53.8845\n",
      "Iteration: 270 - Error: 53.8600\n",
      "Iteration: 280 - Error: 53.8375\n",
      "Iteration: 290 - Error: 53.8168\n",
      "Iteration: 300 - Error: 53.7977\n",
      "Iteration: 310 - Error: 53.7801\n",
      "Iteration: 320 - Error: 53.7640\n",
      "Iteration: 330 - Error: 53.7490\n",
      "Iteration: 340 - Error: 53.7353\n",
      "Iteration: 350 - Error: 53.7227\n",
      "Iteration: 360 - Error: 53.7110\n",
      "Iteration: 370 - Error: 53.7003\n",
      "Iteration: 380 - Error: 53.6904\n",
      "Iteration: 390 - Error: 53.6813\n",
      "Iteration: 400 - Error: 53.6729\n",
      "Iteration: 410 - Error: 53.6652\n",
      "Iteration: 420 - Error: 53.6581\n",
      "Iteration: 430 - Error: 53.6515\n",
      "Iteration: 440 - Error: 53.6455\n",
      "Iteration: 450 - Error: 53.6399\n",
      "Iteration: 460 - Error: 53.6348\n",
      "Iteration: 470 - Error: 53.6301\n",
      "Iteration: 480 - Error: 53.6257\n",
      "Iteration: 490 - Error: 53.6217\n",
      "Iteration: 500 - Error: 53.6180\n",
      "Iteration: 510 - Error: 53.6147\n",
      "Iteration: 520 - Error: 53.6115\n",
      "Iteration: 530 - Error: 53.6087\n",
      "Iteration: 540 - Error: 53.6061\n",
      "Iteration: 550 - Error: 53.6036\n",
      "Iteration: 560 - Error: 53.6014\n",
      "Iteration: 570 - Error: 53.5994\n",
      "Iteration: 580 - Error: 53.5975\n",
      "Iteration: 590 - Error: 53.5958\n",
      "Iteration: 600 - Error: 53.5942\n",
      "Iteration: 610 - Error: 53.5927\n",
      "Iteration: 620 - Error: 53.5914\n",
      "Iteration: 630 - Error: 53.5902\n",
      "Iteration: 640 - Error: 53.5891\n",
      "Iteration: 650 - Error: 53.5881\n",
      "Iteration: 660 - Error: 53.5871\n",
      "Iteration: 670 - Error: 53.5863\n",
      "Iteration: 680 - Error: 53.5855\n",
      "Iteration: 690 - Error: 53.5848\n",
      "Iteration: 700 - Error: 53.5841\n",
      "Iteration: 710 - Error: 53.5835\n",
      "Iteration: 720 - Error: 53.5830\n",
      "Iteration: 730 - Error: 53.5825\n",
      "Iteration: 740 - Error: 53.5820\n",
      "Iteration: 750 - Error: 53.5816\n",
      "Iteration: 760 - Error: 53.5813\n",
      "Iteration: 770 - Error: 53.5809\n",
      "Iteration: 780 - Error: 53.5806\n",
      "Iteration: 790 - Error: 53.5803\n",
      "Iteration: 800 - Error: 53.5801\n",
      "Iteration: 810 - Error: 53.5799\n",
      "Iteration: 820 - Error: 53.5797\n",
      "Iteration: 830 - Error: 53.5795\n",
      "Iteration: 840 - Error: 53.5793\n",
      "Iteration: 850 - Error: 53.5792\n",
      "Iteration: 860 - Error: 53.5790\n",
      "Iteration: 870 - Error: 53.5789\n",
      "Iteration: 880 - Error: 53.5788\n",
      "Iteration: 890 - Error: 53.5787\n",
      "Iteration: 900 - Error: 53.5786\n",
      "Iteration: 910 - Error: 53.5786\n",
      "Iteration: 920 - Error: 53.5785\n",
      "Iteration: 930 - Error: 53.5784\n",
      "Iteration: 940 - Error: 53.5784\n",
      "Iteration: 950 - Error: 53.5784\n",
      "Iteration: 960 - Error: 53.5783\n",
      "Iteration: 970 - Error: 53.5783\n",
      "Iteration: 980 - Error: 53.5783\n",
      "Iteration: 990 - Error: 53.5782\n",
      "Iteration: 1000 - Error: 53.5782\n",
      "Iteration: 1010 - Error: 53.5782\n",
      "Iteration: 1020 - Error: 53.5782\n",
      "Iteration: 1030 - Error: 53.5782\n",
      "Iteration: 1040 - Error: 53.5782\n",
      "Iteration: 1050 - Error: 53.5782\n",
      "Iteration: 1060 - Error: 53.5782\n",
      "Iteration: 1070 - Error: 53.5782\n",
      "Iteration: 1080 - Error: 53.5782\n",
      "Iteration: 1090 - Error: 53.5782\n",
      "Iteration: 1100 - Error: 53.5782\n",
      "Iteration: 1110 - Error: 53.5782\n",
      "Iteration: 1120 - Error: 53.5782\n",
      "Iteration: 1130 - Error: 53.5782\n",
      "Iteration: 1140 - Error: 53.5782\n",
      "Iteration: 1150 - Error: 53.5782\n",
      "Iteration: 1160 - Error: 53.5782\n",
      "Iteration: 1170 - Error: 53.5783\n",
      "Iteration: 1180 - Error: 53.5783\n",
      "Iteration: 1190 - Error: 53.5783\n",
      "Iteration: 1200 - Error: 53.5783\n",
      "Iteration: 1210 - Error: 53.5783\n",
      "Iteration: 1220 - Error: 53.5783\n"
     ]
    },
    {
     "data": {
      "text/plain": [
       "<__main__.PolynomialRegression at 0x7f652af5a490>"
      ]
     },
     "execution_count": 6,
     "metadata": {},
     "output_type": "execute_result"
    }
   ],
   "source": [
    "model = PolynomialRegression()\n",
    "model.fit(train_x, train_y, degree=1, verbose=True)"
   ]
  },
  {
   "cell_type": "markdown",
   "metadata": {},
   "source": [
    "## Test using test data"
   ]
  },
  {
   "cell_type": "code",
   "execution_count": 7,
   "metadata": {},
   "outputs": [
    {
     "name": "stdout",
     "output_type": "stream",
     "text": [
      "(20, 4) (4,)\n"
     ]
    },
    {
     "data": {
      "text/plain": [
       "[<matplotlib.lines.Line2D at 0x7f652af45c50>]"
      ]
     },
     "execution_count": 7,
     "metadata": {},
     "output_type": "execute_result"
    },
    {
     "data": {
      "image/png": "[encoded data removed]",
      "text/plain": [
       "<Figure size 432x288 with 1 Axes>"
      ]
     },
     "metadata": {
      "needs_background": "light"
     },
     "output_type": "display_data"
    }
   ],
   "source": [
    "plt.plot(np.sort(test_x.flatten()), np.sort(model.predict(test_x)))\n",
    "plt.plot(test_x, test_y, 'bo')"
   ]
  },
  {
   "cell_type": "code",
   "execution_count": null,
   "metadata": {},
   "outputs": [],
   "source": []
  }
 ],
 "metadata": {
  "kernelspec": {
   "display_name": "Python 3",
   "language": "python",
   "name": "python3"
  },
  "language_info": {
   "codemirror_mode": {
    "name": "ipython",
    "version": 3
   },
   "file_extension": ".py",
   "mimetype": "text/x-python",
   "name": "python",
   "nbconvert_exporter": "python",
   "pygments_lexer": "ipython3",
   "version": "3.7.5"
  }
 },
 "nbformat": 4,
 "nbformat_minor": 4
}
