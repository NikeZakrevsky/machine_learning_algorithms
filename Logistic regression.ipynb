{
 "cells": [
  {
   "cell_type": "code",
   "execution_count": 1,
   "metadata": {},
   "outputs": [],
   "source": [
    "%matplotlib inline\n",
    "import numpy as np\n",
    "import matplotlib.pyplot as plt\n",
    "from sklearn import datasets"
   ]
  },
  {
   "cell_type": "code",
   "execution_count": 2,
   "metadata": {},
   "outputs": [],
   "source": [
    "iris = datasets.load_iris()\n",
    "X = iris.data[:, :2]\n",
    "y = (iris.target != 0) * 1"
   ]
  },
  {
   "cell_type": "code",
   "execution_count": 3,
   "metadata": {},
   "outputs": [
    {
     "data": {
      "text/plain": [
       "<matplotlib.collections.PathCollection at 0x7f398b23e890>"
      ]
     },
     "execution_count": 3,
     "metadata": {},
     "output_type": "execute_result"
    },
    {
     "data": {
      "image/png": "[encoded data removed]",
      "text/plain": [
       "<Figure size 720x432 with 1 Axes>"
      ]
     },
     "metadata": {
      "needs_background": "light"
     },
     "output_type": "display_data"
    }
   ],
   "source": [
    "plt.figure(figsize=(10, 6))\n",
    "plt.scatter(X[y == 0][:, 0], X[y == 0][:, 1], color='b')\n",
    "plt.scatter(X[y == 1][:, 0], X[y == 1][:, 1], color='r')"
   ]
  },
  {
   "cell_type": "code",
   "execution_count": 4,
   "metadata": {},
   "outputs": [],
   "source": [
    "class LogisticRegression:\n",
    "    def __init__(self, learning_rate=0.1, num_iter = 10000, verbose = False):\n",
    "        self.lr = learning_rate\n",
    "        self.verbose = verbose\n",
    "        self.num_iter = num_iter\n",
    "    \n",
    "    def __extend_data(self, X):\n",
    "        extend = np.ones((X.shape[0], 1))\n",
    "        return np.hstack((extend, X))\n",
    "    \n",
    "    def __sigmoid(self, z):\n",
    "        return 1 / (1 + np.exp(-z))\n",
    "    \n",
    "    def __gradient(self, X, y, y_predict):\n",
    "        return X.T @ (y_predict - y) / y.size\n",
    "    \n",
    "    def __loss(self, h, y):\n",
    "        return (-y * np.log(h) - (1 - y) * np.log(1 - h)).mean()\n",
    "    \n",
    "    def fit(self, X, y):\n",
    "        \n",
    "        self.w = np.zeros(X.shape[1])\n",
    "        \n",
    "        for i in range(self.num_iter):\n",
    "            y_predict = self.__sigmoid(X@self.w)\n",
    "\n",
    "            self.w -= self.lr * self.__gradient(X, y, y_predict)\n",
    "\n",
    "            loss = self.__loss(y_predict, y)\n",
    "\n",
    "            if(self.verbose == True and i % 10000 == 0):\n",
    "                print(\"Iteration: %d - Error: %.4f\" %(i, loss))\n",
    "                \n",
    "    def predict(self, X):\n",
    "        return self.__sigmoid(X@self.w)"
   ]
  },
  {
   "cell_type": "code",
   "execution_count": 5,
   "metadata": {},
   "outputs": [
    {
     "name": "stdout",
     "output_type": "stream",
     "text": [
      "Iteration: 0 - Error: 0.6931\n",
      "Iteration: 10000 - Error: 0.0403\n",
      "Iteration: 20000 - Error: 0.0375\n",
      "Iteration: 30000 - Error: 0.0368\n",
      "Iteration: 40000 - Error: 0.0366\n",
      "Iteration: 50000 - Error: 0.0365\n",
      "Iteration: 60000 - Error: 0.0364\n",
      "Iteration: 70000 - Error: 0.0364\n",
      "Iteration: 80000 - Error: 0.0364\n",
      "Iteration: 90000 - Error: 0.0364\n",
      "Iteration: 100000 - Error: 0.0364\n",
      "Iteration: 110000 - Error: 0.0364\n",
      "Iteration: 120000 - Error: 0.0364\n",
      "Iteration: 130000 - Error: 0.0364\n",
      "Iteration: 140000 - Error: 0.0364\n",
      "Iteration: 150000 - Error: 0.0364\n",
      "Iteration: 160000 - Error: 0.0364\n",
      "Iteration: 170000 - Error: 0.0364\n",
      "Iteration: 180000 - Error: 0.0364\n",
      "Iteration: 190000 - Error: 0.0364\n",
      "Iteration: 200000 - Error: 0.0364\n",
      "Iteration: 210000 - Error: 0.0364\n",
      "Iteration: 220000 - Error: 0.0364\n",
      "Iteration: 230000 - Error: 0.0364\n",
      "Iteration: 240000 - Error: 0.0364\n",
      "Iteration: 250000 - Error: 0.0364\n",
      "Iteration: 260000 - Error: 0.0364\n",
      "Iteration: 270000 - Error: 0.0364\n",
      "Iteration: 280000 - Error: 0.0364\n",
      "Iteration: 290000 - Error: 0.0364\n"
     ]
    }
   ],
   "source": [
    "model = LogisticRegression(learning_rate = 0.1, num_iter = 300000, verbose = True)\n",
    "model.fit(X,y)"
   ]
  },
  {
   "cell_type": "code",
   "execution_count": 6,
   "metadata": {},
   "outputs": [],
   "source": [
    "preds = model.predict(X)"
   ]
  },
  {
   "cell_type": "code",
   "execution_count": 7,
   "metadata": {},
   "outputs": [
    {
     "data": {
      "image/png": "[encoded data removed]",
      "text/plain": [
       "<Figure size 720x432 with 1 Axes>"
      ]
     },
     "metadata": {
      "needs_background": "light"
     },
     "output_type": "display_data"
    }
   ],
   "source": [
    "plt.figure(figsize=(10, 6))\n",
    "plt.scatter(X[y == 0][:, 0], X[y == 0][:, 1], color='b')\n",
    "plt.scatter(X[y == 1][:, 0], X[y == 1][:, 1], color='r')\n",
    "x1_min, x1_max = X[:,0].min(), X[:,0].max(),\n",
    "x2_min, x2_max = X[:,1].min(), X[:,1].max(),\n",
    "xx1, xx2 = np.meshgrid(np.linspace(x1_min, x1_max), np.linspace(x2_min, x2_max))\n",
    "grid = np.c_[xx1.ravel(), xx2.ravel()]\n",
    "probs = model.predict(grid).reshape(xx1.shape)\n",
    "plt.contour(xx1, xx2, probs, [0.5], linewidths=1, colors='black');"
   ]
  },
  {
   "cell_type": "code",
   "execution_count": null,
   "metadata": {},
   "outputs": [],
   "source": []
  }
 ],
 "metadata": {
  "kernelspec": {
   "display_name": "Python 3",
   "language": "python",
   "name": "python3"
  },
  "language_info": {
   "codemirror_mode": {
    "name": "ipython",
    "version": 3
   },
   "file_extension": ".py",
   "mimetype": "text/x-python",
   "name": "python",
   "nbconvert_exporter": "python",
   "pygments_lexer": "ipython3",
   "version": "3.7.5"
  }
 },
 "nbformat": 4,
 "nbformat_minor": 4
}
