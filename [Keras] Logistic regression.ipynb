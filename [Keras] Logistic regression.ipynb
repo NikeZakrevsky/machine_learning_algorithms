{
 "cells": [
  {
   "cell_type": "code",
   "execution_count": 8,
   "metadata": {},
   "outputs": [],
   "source": [
    "import numpy as np\n",
    "import matplotlib.pyplot as plt\n",
    "from keras.models import Sequential\n",
    "from keras.layers import Input, Dense, Activation"
   ]
  },
  {
   "cell_type": "code",
   "execution_count": 9,
   "metadata": {},
   "outputs": [],
   "source": [
    "def sampler(n, x, y):\n",
    "    return np.random.normal(size=[n, 2]) + [x, y]"
   ]
  },
  {
   "cell_type": "code",
   "execution_count": 10,
   "metadata": {},
   "outputs": [],
   "source": [
    "def sample_data(n=1000, p0=(-1.,-1.), p1=(1.,1.)):\n",
    "    zeros, ones = np.zeros((n, 1)), np.ones((n, 1))\n",
    "    labels = np.vstack([zeros, ones])\n",
    "    z_sample = sampler(n, x=p0[0], y=p0[1])\n",
    "    o_sample = sampler(n, x=p1[0], y=p1[1])\n",
    "    \n",
    "    return np.vstack([z_sample, o_sample]), labels"
   ]
  },
  {
   "cell_type": "code",
   "execution_count": 11,
   "metadata": {},
   "outputs": [],
   "source": [
    "X_train, y_train = sample_data()\n",
    "X_test, y_test = sample_data(100)"
   ]
  },
  {
   "cell_type": "code",
   "execution_count": 12,
   "metadata": {},
   "outputs": [
    {
     "data": {
      "text/plain": [
       "<matplotlib.collections.PathCollection at 0x7f89242fd850>"
      ]
     },
     "execution_count": 12,
     "metadata": {},
     "output_type": "execute_result"
    },
    {
     "data": {
      "image/png": "[encoded data removed]",
      "text/plain": [
       "<Figure size 432x288 with 1 Axes>"
      ]
     },
     "metadata": {
      "needs_background": "light"
     },
     "output_type": "display_data"
    }
   ],
   "source": [
    "plt.scatter(X_train[:, 0], X_train[:, 1])"
   ]
  },
  {
   "cell_type": "code",
   "execution_count": 13,
   "metadata": {},
   "outputs": [],
   "source": [
    "model = Sequential()\n",
    "model.add(Dense(1, input_dim=2, activation='sigmoid'))\n",
    "model.compile(loss='binary_crossentropy', optimizer='sgd', metrics=['accuracy'])"
   ]
  },
  {
   "cell_type": "code",
   "execution_count": 14,
   "metadata": {},
   "outputs": [
    {
     "name": "stdout",
     "output_type": "stream",
     "text": [
      "Train on 2000 samples, validate on 200 samples\n",
      "Epoch 1/100\n",
      "2000/2000 [==============================] - 0s 53us/step - loss: 0.5899 - accuracy: 0.7065 - val_loss: 0.4270 - val_accuracy: 0.9000\n",
      "Epoch 2/100\n",
      "2000/2000 [==============================] - 0s 41us/step - loss: 0.3626 - accuracy: 0.9230 - val_loss: 0.3207 - val_accuracy: 0.9100\n",
      "Epoch 3/100\n",
      "2000/2000 [==============================] - 0s 45us/step - loss: 0.2926 - accuracy: 0.9265 - val_loss: 0.2773 - val_accuracy: 0.9100\n",
      "Epoch 4/100\n",
      "2000/2000 [==============================] - 0s 50us/step - loss: 0.2595 - accuracy: 0.9285 - val_loss: 0.2541 - val_accuracy: 0.9150\n",
      "Epoch 5/100\n",
      "2000/2000 [==============================] - 0s 75us/step - loss: 0.2403 - accuracy: 0.9290 - val_loss: 0.2399 - val_accuracy: 0.9150\n",
      "Epoch 6/100\n",
      "2000/2000 [==============================] - 0s 72us/step - loss: 0.2278 - accuracy: 0.9280 - val_loss: 0.2304 - val_accuracy: 0.9150\n",
      "Epoch 7/100\n",
      "2000/2000 [==============================] - 0s 33us/step - loss: 0.2190 - accuracy: 0.9295 - val_loss: 0.2236 - val_accuracy: 0.9200\n",
      "Epoch 8/100\n",
      "2000/2000 [==============================] - 0s 35us/step - loss: 0.2126 - accuracy: 0.9285 - val_loss: 0.2186 - val_accuracy: 0.9200\n",
      "Epoch 9/100\n",
      "2000/2000 [==============================] - 0s 39us/step - loss: 0.2076 - accuracy: 0.9280 - val_loss: 0.2148 - val_accuracy: 0.9200\n",
      "Epoch 10/100\n",
      "2000/2000 [==============================] - 0s 40us/step - loss: 0.2038 - accuracy: 0.9280 - val_loss: 0.2118 - val_accuracy: 0.9200\n",
      "Epoch 11/100\n",
      "2000/2000 [==============================] - 0s 42us/step - loss: 0.2007 - accuracy: 0.9290 - val_loss: 0.2094 - val_accuracy: 0.9200\n",
      "Epoch 12/100\n",
      "2000/2000 [==============================] - 0s 40us/step - loss: 0.1982 - accuracy: 0.9295 - val_loss: 0.2075 - val_accuracy: 0.9200\n",
      "Epoch 13/100\n",
      "2000/2000 [==============================] - 0s 41us/step - loss: 0.1961 - accuracy: 0.9295 - val_loss: 0.2060 - val_accuracy: 0.9200\n",
      "Epoch 14/100\n",
      "2000/2000 [==============================] - 0s 45us/step - loss: 0.1944 - accuracy: 0.9295 - val_loss: 0.2047 - val_accuracy: 0.9200\n",
      "Epoch 15/100\n",
      "2000/2000 [==============================] - 0s 59us/step - loss: 0.1929 - accuracy: 0.9295 - val_loss: 0.2037 - val_accuracy: 0.9150\n",
      "Epoch 16/100\n",
      "2000/2000 [==============================] - 0s 60us/step - loss: 0.1916 - accuracy: 0.9295 - val_loss: 0.2028 - val_accuracy: 0.9150\n",
      "Epoch 17/100\n",
      "2000/2000 [==============================] - 0s 69us/step - loss: 0.1906 - accuracy: 0.9295 - val_loss: 0.2020 - val_accuracy: 0.9150\n",
      "Epoch 18/100\n",
      "2000/2000 [==============================] - 0s 70us/step - loss: 0.1896 - accuracy: 0.9295 - val_loss: 0.2014 - val_accuracy: 0.9150\n",
      "Epoch 19/100\n",
      "2000/2000 [==============================] - 0s 61us/step - loss: 0.1888 - accuracy: 0.9295 - val_loss: 0.2009 - val_accuracy: 0.9150\n",
      "Epoch 20/100\n",
      "2000/2000 [==============================] - 0s 59us/step - loss: 0.1881 - accuracy: 0.9295 - val_loss: 0.2004 - val_accuracy: 0.9150\n",
      "Epoch 21/100\n",
      "2000/2000 [==============================] - 0s 55us/step - loss: 0.1874 - accuracy: 0.9300 - val_loss: 0.2001 - val_accuracy: 0.9150\n",
      "Epoch 22/100\n",
      "2000/2000 [==============================] - 0s 52us/step - loss: 0.1869 - accuracy: 0.9295 - val_loss: 0.1997 - val_accuracy: 0.9150\n",
      "Epoch 23/100\n",
      "2000/2000 [==============================] - 0s 52us/step - loss: 0.1864 - accuracy: 0.9295 - val_loss: 0.1995 - val_accuracy: 0.9150\n",
      "Epoch 24/100\n",
      "2000/2000 [==============================] - 0s 51us/step - loss: 0.1860 - accuracy: 0.9295 - val_loss: 0.1992 - val_accuracy: 0.9150\n",
      "Epoch 25/100\n",
      "2000/2000 [==============================] - 0s 61us/step - loss: 0.1856 - accuracy: 0.9295 - val_loss: 0.1990 - val_accuracy: 0.9150\n",
      "Epoch 26/100\n",
      "2000/2000 [==============================] - 0s 54us/step - loss: 0.1852 - accuracy: 0.9295 - val_loss: 0.1989 - val_accuracy: 0.9150\n",
      "Epoch 27/100\n",
      "2000/2000 [==============================] - 0s 54us/step - loss: 0.1849 - accuracy: 0.9295 - val_loss: 0.1987 - val_accuracy: 0.9150\n",
      "Epoch 28/100\n",
      "2000/2000 [==============================] - 0s 62us/step - loss: 0.1846 - accuracy: 0.9295 - val_loss: 0.1986 - val_accuracy: 0.9150\n",
      "Epoch 29/100\n",
      "2000/2000 [==============================] - 0s 74us/step - loss: 0.1844 - accuracy: 0.9295 - val_loss: 0.1985 - val_accuracy: 0.9150\n",
      "Epoch 30/100\n",
      "2000/2000 [==============================] - 0s 71us/step - loss: 0.1841 - accuracy: 0.9295 - val_loss: 0.1984 - val_accuracy: 0.9150\n",
      "Epoch 31/100\n",
      "2000/2000 [==============================] - 0s 70us/step - loss: 0.1839 - accuracy: 0.9295 - val_loss: 0.1984 - val_accuracy: 0.9150\n",
      "Epoch 32/100\n",
      "2000/2000 [==============================] - 0s 61us/step - loss: 0.1837 - accuracy: 0.9300 - val_loss: 0.1983 - val_accuracy: 0.9150\n",
      "Epoch 33/100\n",
      "2000/2000 [==============================] - 0s 65us/step - loss: 0.1836 - accuracy: 0.9300 - val_loss: 0.1983 - val_accuracy: 0.9150\n",
      "Epoch 34/100\n",
      "2000/2000 [==============================] - 0s 67us/step - loss: 0.1834 - accuracy: 0.9295 - val_loss: 0.1982 - val_accuracy: 0.9150\n",
      "Epoch 35/100\n",
      "2000/2000 [==============================] - 0s 49us/step - loss: 0.1833 - accuracy: 0.9300 - val_loss: 0.1982 - val_accuracy: 0.9150\n",
      "Epoch 36/100\n",
      "2000/2000 [==============================] - 0s 35us/step - loss: 0.1831 - accuracy: 0.9300 - val_loss: 0.1982 - val_accuracy: 0.9150\n",
      "Epoch 37/100\n",
      "2000/2000 [==============================] - 0s 35us/step - loss: 0.1830 - accuracy: 0.9295 - val_loss: 0.1982 - val_accuracy: 0.9150\n",
      "Epoch 38/100\n",
      "2000/2000 [==============================] - 0s 35us/step - loss: 0.1829 - accuracy: 0.9300 - val_loss: 0.1982 - val_accuracy: 0.9150\n",
      "Epoch 39/100\n",
      "2000/2000 [==============================] - 0s 40us/step - loss: 0.1828 - accuracy: 0.9295 - val_loss: 0.1982 - val_accuracy: 0.9150\n",
      "Epoch 40/100\n",
      "2000/2000 [==============================] - 0s 46us/step - loss: 0.1827 - accuracy: 0.9295 - val_loss: 0.1982 - val_accuracy: 0.9150\n",
      "Epoch 41/100\n",
      "2000/2000 [==============================] - 0s 51us/step - loss: 0.1826 - accuracy: 0.9300 - val_loss: 0.1982 - val_accuracy: 0.9150\n",
      "Epoch 42/100\n",
      "2000/2000 [==============================] - 0s 61us/step - loss: 0.1825 - accuracy: 0.9305 - val_loss: 0.1982 - val_accuracy: 0.9150\n",
      "Epoch 43/100\n",
      "2000/2000 [==============================] - 0s 43us/step - loss: 0.1825 - accuracy: 0.9305 - val_loss: 0.1982 - val_accuracy: 0.9150\n",
      "Epoch 44/100\n",
      "2000/2000 [==============================] - 0s 47us/step - loss: 0.1824 - accuracy: 0.9305 - val_loss: 0.1982 - val_accuracy: 0.9150\n",
      "Epoch 45/100\n",
      "2000/2000 [==============================] - 0s 45us/step - loss: 0.1823 - accuracy: 0.9305 - val_loss: 0.1982 - val_accuracy: 0.9150\n",
      "Epoch 46/100\n",
      "2000/2000 [==============================] - 0s 46us/step - loss: 0.1823 - accuracy: 0.9305 - val_loss: 0.1982 - val_accuracy: 0.9150\n",
      "Epoch 47/100\n",
      "2000/2000 [==============================] - 0s 46us/step - loss: 0.1822 - accuracy: 0.9305 - val_loss: 0.1983 - val_accuracy: 0.9150\n",
      "Epoch 48/100\n",
      "2000/2000 [==============================] - 0s 94us/step - loss: 0.1822 - accuracy: 0.9305 - val_loss: 0.1983 - val_accuracy: 0.9150\n",
      "Epoch 49/100\n",
      "2000/2000 [==============================] - 0s 95us/step - loss: 0.1821 - accuracy: 0.9305 - val_loss: 0.1983 - val_accuracy: 0.9150\n",
      "Epoch 50/100\n",
      "2000/2000 [==============================] - 0s 54us/step - loss: 0.1821 - accuracy: 0.9305 - val_loss: 0.1983 - val_accuracy: 0.9150\n",
      "Epoch 51/100\n",
      "2000/2000 [==============================] - 0s 55us/step - loss: 0.1821 - accuracy: 0.9305 - val_loss: 0.1984 - val_accuracy: 0.9150\n",
      "Epoch 52/100\n",
      "2000/2000 [==============================] - 0s 54us/step - loss: 0.1820 - accuracy: 0.9305 - val_loss: 0.1984 - val_accuracy: 0.9150\n",
      "Epoch 53/100\n",
      "2000/2000 [==============================] - 0s 59us/step - loss: 0.1820 - accuracy: 0.9305 - val_loss: 0.1984 - val_accuracy: 0.9150\n",
      "Epoch 54/100\n",
      "2000/2000 [==============================] - 0s 64us/step - loss: 0.1820 - accuracy: 0.9305 - val_loss: 0.1984 - val_accuracy: 0.9150\n",
      "Epoch 55/100\n",
      "2000/2000 [==============================] - 0s 66us/step - loss: 0.1819 - accuracy: 0.9305 - val_loss: 0.1984 - val_accuracy: 0.9150\n",
      "Epoch 56/100\n"
     ]
    },
    {
     "name": "stdout",
     "output_type": "stream",
     "text": [
      "2000/2000 [==============================] - 0s 66us/step - loss: 0.1819 - accuracy: 0.9305 - val_loss: 0.1985 - val_accuracy: 0.9150\n",
      "Epoch 57/100\n",
      "2000/2000 [==============================] - 0s 50us/step - loss: 0.1819 - accuracy: 0.9305 - val_loss: 0.1985 - val_accuracy: 0.9150\n",
      "Epoch 58/100\n",
      "2000/2000 [==============================] - 0s 51us/step - loss: 0.1819 - accuracy: 0.9305 - val_loss: 0.1985 - val_accuracy: 0.9150\n",
      "Epoch 59/100\n",
      "2000/2000 [==============================] - 0s 50us/step - loss: 0.1818 - accuracy: 0.9305 - val_loss: 0.1986 - val_accuracy: 0.9150\n",
      "Epoch 60/100\n",
      "2000/2000 [==============================] - 0s 50us/step - loss: 0.1818 - accuracy: 0.9305 - val_loss: 0.1986 - val_accuracy: 0.9150\n",
      "Epoch 61/100\n",
      "2000/2000 [==============================] - 0s 51us/step - loss: 0.1818 - accuracy: 0.9305 - val_loss: 0.1986 - val_accuracy: 0.9150\n",
      "Epoch 62/100\n",
      "2000/2000 [==============================] - 0s 55us/step - loss: 0.1818 - accuracy: 0.9305 - val_loss: 0.1986 - val_accuracy: 0.9150\n",
      "Epoch 63/100\n",
      "2000/2000 [==============================] - 0s 55us/step - loss: 0.1818 - accuracy: 0.9305 - val_loss: 0.1986 - val_accuracy: 0.9150\n",
      "Epoch 64/100\n",
      "2000/2000 [==============================] - 0s 63us/step - loss: 0.1818 - accuracy: 0.9305 - val_loss: 0.1987 - val_accuracy: 0.9150\n",
      "Epoch 65/100\n",
      "2000/2000 [==============================] - 0s 67us/step - loss: 0.1818 - accuracy: 0.9305 - val_loss: 0.1987 - val_accuracy: 0.9150\n",
      "Epoch 66/100\n",
      "2000/2000 [==============================] - 0s 67us/step - loss: 0.1817 - accuracy: 0.9305 - val_loss: 0.1987 - val_accuracy: 0.9150\n",
      "Epoch 67/100\n",
      "2000/2000 [==============================] - 0s 67us/step - loss: 0.1817 - accuracy: 0.9305 - val_loss: 0.1987 - val_accuracy: 0.9150\n",
      "Epoch 68/100\n",
      "2000/2000 [==============================] - 0s 32us/step - loss: 0.1817 - accuracy: 0.9305 - val_loss: 0.1988 - val_accuracy: 0.9150\n",
      "Epoch 69/100\n",
      "2000/2000 [==============================] - 0s 29us/step - loss: 0.1817 - accuracy: 0.9305 - val_loss: 0.1988 - val_accuracy: 0.9150\n",
      "Epoch 70/100\n",
      "2000/2000 [==============================] - 0s 35us/step - loss: 0.1817 - accuracy: 0.9305 - val_loss: 0.1988 - val_accuracy: 0.9150\n",
      "Epoch 71/100\n",
      "2000/2000 [==============================] - 0s 44us/step - loss: 0.1817 - accuracy: 0.9305 - val_loss: 0.1988 - val_accuracy: 0.9150\n",
      "Epoch 72/100\n",
      "2000/2000 [==============================] - 0s 51us/step - loss: 0.1817 - accuracy: 0.9305 - val_loss: 0.1988 - val_accuracy: 0.9150\n",
      "Epoch 73/100\n",
      "2000/2000 [==============================] - 0s 58us/step - loss: 0.1817 - accuracy: 0.9305 - val_loss: 0.1989 - val_accuracy: 0.9150\n",
      "Epoch 74/100\n",
      "2000/2000 [==============================] - 0s 48us/step - loss: 0.1817 - accuracy: 0.9305 - val_loss: 0.1989 - val_accuracy: 0.9150\n",
      "Epoch 75/100\n",
      "2000/2000 [==============================] - 0s 45us/step - loss: 0.1816 - accuracy: 0.9305 - val_loss: 0.1989 - val_accuracy: 0.9150\n",
      "Epoch 76/100\n",
      "2000/2000 [==============================] - 0s 47us/step - loss: 0.1817 - accuracy: 0.9305 - val_loss: 0.1989 - val_accuracy: 0.9150\n",
      "Epoch 77/100\n",
      "2000/2000 [==============================] - 0s 53us/step - loss: 0.1816 - accuracy: 0.9305 - val_loss: 0.1990 - val_accuracy: 0.9150\n",
      "Epoch 78/100\n",
      "2000/2000 [==============================] - 0s 50us/step - loss: 0.1817 - accuracy: 0.9305 - val_loss: 0.1990 - val_accuracy: 0.9150\n",
      "Epoch 79/100\n",
      "2000/2000 [==============================] - 0s 41us/step - loss: 0.1816 - accuracy: 0.9305 - val_loss: 0.1990 - val_accuracy: 0.9150\n",
      "Epoch 80/100\n",
      "2000/2000 [==============================] - 0s 40us/step - loss: 0.1816 - accuracy: 0.9305 - val_loss: 0.1990 - val_accuracy: 0.9150\n",
      "Epoch 81/100\n",
      "2000/2000 [==============================] - 0s 40us/step - loss: 0.1816 - accuracy: 0.9305 - val_loss: 0.1990 - val_accuracy: 0.9150\n",
      "Epoch 82/100\n",
      "2000/2000 [==============================] - 0s 41us/step - loss: 0.1816 - accuracy: 0.9305 - val_loss: 0.1990 - val_accuracy: 0.9150\n",
      "Epoch 83/100\n",
      "2000/2000 [==============================] - 0s 37us/step - loss: 0.1816 - accuracy: 0.9305 - val_loss: 0.1991 - val_accuracy: 0.9150\n",
      "Epoch 84/100\n",
      "2000/2000 [==============================] - 0s 50us/step - loss: 0.1816 - accuracy: 0.9305 - val_loss: 0.1991 - val_accuracy: 0.9150\n",
      "Epoch 85/100\n",
      "2000/2000 [==============================] - 0s 49us/step - loss: 0.1816 - accuracy: 0.9305 - val_loss: 0.1991 - val_accuracy: 0.9150\n",
      "Epoch 86/100\n",
      "2000/2000 [==============================] - 0s 48us/step - loss: 0.1816 - accuracy: 0.9305 - val_loss: 0.1991 - val_accuracy: 0.9150\n",
      "Epoch 87/100\n",
      "2000/2000 [==============================] - 0s 46us/step - loss: 0.1816 - accuracy: 0.9305 - val_loss: 0.1991 - val_accuracy: 0.9150\n",
      "Epoch 88/100\n",
      "2000/2000 [==============================] - 0s 49us/step - loss: 0.1816 - accuracy: 0.9305 - val_loss: 0.1991 - val_accuracy: 0.9150\n",
      "Epoch 89/100\n",
      "2000/2000 [==============================] - 0s 37us/step - loss: 0.1816 - accuracy: 0.9305 - val_loss: 0.1991 - val_accuracy: 0.9150\n",
      "Epoch 90/100\n",
      "2000/2000 [==============================] - 0s 31us/step - loss: 0.1816 - accuracy: 0.9305 - val_loss: 0.1992 - val_accuracy: 0.9150\n",
      "Epoch 91/100\n",
      "2000/2000 [==============================] - 0s 28us/step - loss: 0.1816 - accuracy: 0.9305 - val_loss: 0.1992 - val_accuracy: 0.9150\n",
      "Epoch 92/100\n",
      "2000/2000 [==============================] - 0s 30us/step - loss: 0.1816 - accuracy: 0.9305 - val_loss: 0.1992 - val_accuracy: 0.9150\n",
      "Epoch 93/100\n",
      "2000/2000 [==============================] - 0s 30us/step - loss: 0.1816 - accuracy: 0.9305 - val_loss: 0.1992 - val_accuracy: 0.9150\n",
      "Epoch 94/100\n",
      "2000/2000 [==============================] - 0s 29us/step - loss: 0.1816 - accuracy: 0.9305 - val_loss: 0.1992 - val_accuracy: 0.9150\n",
      "Epoch 95/100\n",
      "2000/2000 [==============================] - 0s 29us/step - loss: 0.1816 - accuracy: 0.9305 - val_loss: 0.1992 - val_accuracy: 0.9150\n",
      "Epoch 96/100\n",
      "2000/2000 [==============================] - 0s 29us/step - loss: 0.1816 - accuracy: 0.9305 - val_loss: 0.1992 - val_accuracy: 0.9150\n",
      "Epoch 97/100\n",
      "2000/2000 [==============================] - 0s 29us/step - loss: 0.1816 - accuracy: 0.9305 - val_loss: 0.1992 - val_accuracy: 0.9150\n",
      "Epoch 98/100\n",
      "2000/2000 [==============================] - 0s 51us/step - loss: 0.1816 - accuracy: 0.9305 - val_loss: 0.1993 - val_accuracy: 0.9150\n",
      "Epoch 99/100\n",
      "2000/2000 [==============================] - 0s 60us/step - loss: 0.1816 - accuracy: 0.9305 - val_loss: 0.1993 - val_accuracy: 0.9150\n",
      "Epoch 100/100\n",
      "2000/2000 [==============================] - 0s 51us/step - loss: 0.1816 - accuracy: 0.9305 - val_loss: 0.1993 - val_accuracy: 0.9150\n"
     ]
    },
    {
     "data": {
      "text/plain": [
       "<keras.callbacks.callbacks.History at 0x7f891c43ea10>"
      ]
     },
     "execution_count": 14,
     "metadata": {},
     "output_type": "execute_result"
    }
   ],
   "source": [
    "model.fit(X_train, y_train, batch_size=16, epochs=100, verbose=1, validation_data=(X_test, y_test))"
   ]
  }
 ],
 "metadata": {
  "kernelspec": {
   "display_name": "Python 3",
   "language": "python",
   "name": "python3"
  },
  "language_info": {
   "codemirror_mode": {
    "name": "ipython",
    "version": 3
   },
   "file_extension": ".py",
   "mimetype": "text/x-python",
   "name": "python",
   "nbconvert_exporter": "python",
   "pygments_lexer": "ipython3",
   "version": "3.7.5"
  }
 },
 "nbformat": 4,
 "nbformat_minor": 4
}
